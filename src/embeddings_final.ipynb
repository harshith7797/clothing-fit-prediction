{
  "nbformat": 4,
  "nbformat_minor": 0,
  "metadata": {
    "colab": {
      "provenance": []
    },
    "kernelspec": {
      "name": "python3",
      "display_name": "Python 3"
    },
    "language_info": {
      "name": "python"
    }
  },
  "cells": [
    {
      "cell_type": "code",
      "execution_count": 1,
      "metadata": {
        "id": "urA-MUR9oa3Z"
      },
      "outputs": [],
      "source": [
        "import pandas as pd\n",
        "import numpy as np\n",
        "from tensorflow import keras\n",
        "from collections import defaultdict\n",
        "from keras.utils.np_utils import to_categorical\n",
        "from keras.models import Sequential\n",
        "from keras.layers import Dropout, Dense\n",
        "from tensorflow.keras.optimizers import Adam\n",
        "import keras.backend as K\n",
        "import string"
      ]
    },
    {
      "cell_type": "code",
      "source": [
        "dataset = pd.read_pickle(\"renttherunway_data_processed.pkl\")"
      ],
      "metadata": {
        "id": "7VHp7Ma2ofMS"
      },
      "execution_count": 2,
      "outputs": []
    },
    {
      "cell_type": "code",
      "source": [
        "dataset = dataset.dropna()\n",
        "dataset = dataset.drop(dataset[dataset['rented for']== \"party: cocktail\"].index)\n",
        "\n",
        "# 0 = Small, 1 = Fit, 2 = Large\n",
        "dataset.loc[dataset[\"fit\"] == \"small\", \"fit\"] = 1\n",
        "\n",
        "dataset.loc[dataset[\"fit\"] == \"fit\", \"fit\"] = 0\n",
        "\n",
        "dataset.loc[dataset[\"fit\"] == \"large\", \"fit\"] = 2"
      ],
      "metadata": {
        "id": "tJgaEAQppfrv"
      },
      "execution_count": 3,
      "outputs": []
    },
    {
      "cell_type": "code",
      "source": [
        "data = pd.DataFrame(dataset).to_dict('record')\n",
        "\n",
        "for d in data:\n",
        "    d['weight'] = int(d['weight'])#.split('lbs')[0])\n",
        "    d['height'] = int(d['height'])#.split(' ')[0][:-1])*12 + int(d['height'].split(' ')[1][:-1])\n",
        "\n",
        "catogeries = ['rented for','body type']\n",
        "for cat in catogeries:\n",
        "    categories_list = defaultdict(int)\n",
        "    for d in data:\n",
        "        categories_list[d[cat]] += 1\n",
        "        \n",
        "    categories_id = defaultdict(int)\n",
        "\n",
        "    i = 0\n",
        "    for cID in  categories_list:\n",
        "        categories_id[cID] = i\n",
        "        i+=1\n",
        "    for d in data:\n",
        "        f = [0]*len(categories_list)\n",
        "        f[categories_id[d[cat]]] = 1\n",
        "        d[cat] = f[:len(categories_list)-1]"
      ],
      "metadata": {
        "colab": {
          "base_uri": "https://localhost:8080/"
        },
        "id": "r09VAHdQpp8u",
        "outputId": "73b96a59-53d3-49c2-c618-48623e13e3cc"
      },
      "execution_count": 75,
      "outputs": [
        {
          "output_type": "stream",
          "name": "stderr",
          "text": [
            "/usr/local/lib/python3.7/dist-packages/ipykernel_launcher.py:1: FutureWarning: Using short name for 'orient' is deprecated. Only the options: ('dict', list, 'series', 'split', 'records', 'index') will be used in a future version. Use one of the above to silence this warning.\n",
            "  \"\"\"Entry point for launching an IPython kernel.\n"
          ]
        }
      ]
    },
    {
      "cell_type": "code",
      "source": [
        "embeddings_dict = {}\n",
        "with open(\"glove.6B.100d.txt\", 'r') as f:\n",
        "    for line in f:\n",
        "        values = line.split()\n",
        "        word = values[0]\n",
        "        vector = np.asarray(values[1:], \"float32\")\n",
        "        embeddings_dict[word] = vector"
      ],
      "metadata": {
        "id": "4Aphd5hOpsCy"
      },
      "execution_count": 76,
      "outputs": []
    },
    {
      "cell_type": "code",
      "source": [
        "def get_word_embeddings(word):\n",
        "    try:\n",
        "        return embeddings_dict[word]\n",
        "    except KeyError:\n",
        "        return np.zeros(100)"
      ],
      "metadata": {
        "id": "tg4Px3VRAZ9A"
      },
      "execution_count": 77,
      "outputs": []
    },
    {
      "cell_type": "code",
      "source": [
        "punctuation = set(string.punctuation)\n",
        "type(embeddings_dict['the'])"
      ],
      "metadata": {
        "colab": {
          "base_uri": "https://localhost:8080/"
        },
        "id": "c3ihj-O-Ac_g",
        "outputId": "d26359aa-0103-4cde-d1bb-8866a011e46e"
      },
      "execution_count": 78,
      "outputs": [
        {
          "output_type": "execute_result",
          "data": {
            "text/plain": [
              "numpy.ndarray"
            ]
          },
          "metadata": {},
          "execution_count": 78
        }
      ]
    },
    {
      "cell_type": "code",
      "source": [
        "stop_words=[\"0o\", \"0s\", \"3a\", \"3b\", \"3d\", \"6b\", \"6o\", \"a\", \"a1\", \"a2\", \"a3\", \"a4\", \"ab\", \"able\", \"about\", \"above\", \"abst\", \"ac\", \"accordance\", \"according\", \"accordingly\", \"across\", \"act\", \"actually\", \"ad\", \"added\", \"adj\", \"ae\", \"af\", \"affected\", \"affecting\", \"affects\", \"after\", \"afterwards\", \"ag\", \"again\", \"against\", \"ah\", \"ain\", \"ain't\", \"aj\", \"al\", \"all\", \"allow\", \"allows\", \"almost\", \"alone\", \"along\", \"already\", \"also\", \"although\", \"always\", \"am\", \"among\", \"amongst\", \"amoungst\", \"amount\", \"an\", \"and\", \"announce\", \"another\", \"any\", \"anybody\", \"anyhow\", \"anymore\", \"anyone\", \"anything\", \"anyway\", \"anyways\", \"anywhere\", \"ao\", \"ap\", \"apart\", \"apparently\", \"appear\", \"appreciate\", \"appropriate\", \"approximately\", \"ar\", \"are\", \"aren\", \"arent\", \"aren't\", \"arise\", \"around\", \"as\", \"a's\", \"aside\", \"ask\", \"asking\", \"associated\", \"at\", \"au\", \"auth\", \"av\", \"available\", \"aw\", \"away\", \"awfully\", \"ax\", \"ay\", \"az\", \"b\", \"b1\", \"b2\", \"b3\", \"ba\", \"back\", \"bc\", \"bd\", \"be\", \"became\", \"because\", \"become\", \"becomes\", \"becoming\", \"been\", \"before\", \"beforehand\", \"begin\", \"beginning\", \"beginnings\", \"begins\", \"behind\", \"being\", \"believe\", \"below\", \"beside\", \"besides\", \"best\", \"better\", \"between\", \"beyond\", \"bi\", \"bill\", \"biol\", \"bj\", \"bk\", \"bl\", \"bn\", \"both\", \"bottom\", \"bp\", \"br\", \"brief\", \"briefly\", \"bs\", \"bt\", \"bu\", \"but\", \"bx\", \"by\", \"c\", \"c1\", \"c2\", \"c3\", \"ca\", \"call\", \"came\", \"can\", \"cannot\", \"cant\", \"can't\", \"cause\", \"causes\", \"cc\", \"cd\", \"ce\", \"certain\", \"certainly\", \"cf\", \"cg\", \"ch\", \"changes\", \"ci\", \"cit\", \"cj\", \"cl\", \"clearly\", \"cm\", \"c'mon\", \"cn\", \"co\", \"com\", \"come\", \"comes\", \"con\", \"concerning\", \"consequently\", \"consider\", \"considering\", \"contain\", \"containing\", \"contains\", \"corresponding\", \"could\", \"couldn\", \"couldnt\", \"couldn't\", \"course\", \"cp\", \"cq\", \"cr\", \"cry\", \"cs\", \"c's\", \"ct\", \"cu\", \"currently\", \"cv\", \"cx\", \"cy\", \"cz\", \"d\", \"d2\", \"da\", \"date\", \"dc\", \"dd\", \"de\", \"definitely\", \"describe\", \"described\", \"despite\", \"detail\", \"df\", \"di\", \"did\", \"didn\", \"didn't\", \"different\", \"dj\", \"dk\", \"dl\", \"do\", \"does\", \"doesn\", \"doesn't\", \"doing\", \"don\", \"done\", \"don't\", \"down\", \"downwards\", \"dp\", \"dr\", \"ds\", \"dt\", \"du\", \"due\", \"during\", \"dx\", \"dy\", \"e\", \"e2\", \"e3\", \"ea\", \"each\", \"ec\", \"ed\", \"edu\", \"ee\", \"ef\", \"effect\", \"eg\", \"ei\", \"eight\", \"eighty\", \"either\", \"ej\", \"el\", \"eleven\", \"else\", \"elsewhere\", \"em\", \"empty\", \"en\", \"end\", \"ending\", \"enough\", \"entirely\", \"eo\", \"ep\", \"eq\", \"er\", \"es\", \"especially\", \"est\", \"et\", \"et-al\", \"etc\", \"eu\", \"ev\", \"even\", \"ever\", \"every\", \"everybody\", \"everyone\", \"everything\", \"everywhere\", \"ex\", \"exactly\", \"example\", \"except\", \"ey\", \"f\", \"f2\", \"fa\", \"far\", \"fc\", \"few\", \"ff\", \"fi\", \"fifteen\", \"fifth\", \"fify\", \"fill\", \"find\", \"fire\", \"first\", \"five\", \"fix\", \"fj\", \"fl\", \"fn\", \"fo\", \"followed\", \"following\", \"follows\", \"for\", \"former\", \"formerly\", \"forth\", \"forty\", \"found\", \"four\", \"fr\", \"from\", \"front\", \"fs\", \"ft\", \"fu\", \"full\", \"further\", \"furthermore\", \"fy\", \"g\", \"ga\", \"gave\", \"ge\", \"get\", \"gets\", \"getting\", \"gi\", \"give\", \"given\", \"gives\", \"giving\", \"gj\", \"gl\", \"go\", \"goes\", \"going\", \"gone\", \"got\", \"gotten\", \"gr\", \"greetings\", \"gs\", \"gy\", \"h\", \"h2\", \"h3\", \"had\", \"hadn\", \"hadn't\", \"happens\", \"hardly\", \"has\", \"hasn\", \"hasnt\", \"hasn't\", \"have\", \"haven\", \"haven't\", \"having\", \"he\", \"hed\", \"he'd\", \"he'll\", \"hello\", \"help\", \"hence\", \"her\", \"here\", \"hereafter\", \"hereby\", \"herein\", \"heres\", \"here's\", \"hereupon\", \"hers\", \"herself\", \"hes\", \"he's\", \"hh\", \"hi\", \"hid\", \"him\", \"himself\", \"his\", \"hither\", \"hj\", \"ho\", \"home\", \"hopefully\", \"how\", \"howbeit\", \"however\", \"how's\", \"hr\", \"hs\", \"http\", \"hu\", \"hundred\", \"hy\", \"i\", \"i2\", \"i3\", \"i4\", \"i6\", \"i7\", \"i8\", \"ia\", \"ib\", \"ibid\", \"ic\", \"id\", \"i'd\", \"ie\", \"if\", \"ig\", \"ignored\", \"ih\", \"ii\", \"ij\", \"il\", \"i'll\", \"im\", \"i'm\", \"immediate\", \"immediately\", \"importance\", \"important\", \"in\", \"inasmuch\", \"inc\", \"indeed\", \"index\", \"indicate\", \"indicated\", \"indicates\", \"information\", \"inner\", \"insofar\", \"instead\", \"interest\", \"into\", \"invention\", \"inward\", \"io\", \"ip\", \"iq\", \"ir\", \"is\", \"isn\", \"isn't\", \"it\", \"itd\", \"it'd\", \"it'll\", \"its\", \"it's\", \"itself\", \"iv\", \"i've\", \"ix\", \"iy\", \"iz\", \"j\", \"jj\", \"jr\", \"js\", \"jt\", \"ju\", \"just\", \"k\", \"ke\", \"keep\", \"keeps\", \"kept\", \"kg\", \"kj\", \"km\", \"know\", \"known\", \"knows\", \"ko\", \"l\", \"l2\", \"la\", \"largely\", \"last\", \"lately\", \"later\", \"latter\", \"latterly\", \"lb\", \"lc\", \"le\", \"least\", \"les\", \"less\", \"lest\", \"let\", \"lets\", \"let's\", \"lf\", \"like\", \"liked\", \"likely\", \"line\", \"little\", \"lj\", \"ll\", \"ll\", \"ln\", \"lo\", \"look\", \"looking\", \"looks\", \"los\", \"lr\", \"ls\", \"lt\", \"ltd\", \"m\", \"m2\", \"ma\", \"made\", \"mainly\", \"make\", \"makes\", \"many\", \"may\", \"maybe\", \"me\", \"mean\", \"means\", \"meantime\", \"meanwhile\", \"merely\", \"mg\", \"might\", \"mightn\", \"mightn't\", \"mill\", \"million\", \"mine\", \"miss\", \"ml\", \"mn\", \"mo\", \"more\", \"moreover\", \"most\", \"mostly\", \"move\", \"mr\", \"mrs\", \"ms\", \"mt\", \"mu\", \"much\", \"mug\", \"must\", \"mustn\", \"mustn't\", \"my\", \"myself\", \"n\", \"n2\", \"na\", \"name\", \"namely\", \"nay\", \"nc\", \"nd\", \"ne\", \"near\", \"nearly\", \"necessarily\", \"necessary\", \"need\", \"needn\", \"needn't\", \"needs\", \"neither\", \"never\", \"nevertheless\", \"new\", \"next\", \"ng\", \"ni\", \"nine\", \"ninety\", \"nj\", \"nl\", \"nn\", \"no\", \"nobody\", \"non\", \"none\", \"nonetheless\", \"noone\", \"nor\", \"normally\", \"nos\", \"not\", \"noted\", \"nothing\", \"novel\", \"now\", \"nowhere\", \"nr\", \"ns\", \"nt\", \"ny\", \"o\", \"oa\", \"ob\", \"obtain\", \"obtained\", \"obviously\", \"oc\", \"od\", \"of\", \"off\", \"often\", \"og\", \"oh\", \"oi\", \"oj\", \"ok\", \"okay\", \"ol\", \"old\", \"om\", \"omitted\", \"on\", \"once\", \"one\", \"ones\", \"only\", \"onto\", \"oo\", \"op\", \"oq\", \"or\", \"ord\", \"os\", \"ot\", \"other\", \"others\", \"otherwise\", \"ou\", \"ought\", \"our\", \"ours\", \"ourselves\", \"out\", \"outside\", \"over\", \"overall\", \"ow\", \"owing\", \"own\", \"ox\", \"oz\", \"p\", \"p1\", \"p2\", \"p3\", \"page\", \"pagecount\", \"pages\", \"par\", \"part\", \"particular\", \"particularly\", \"pas\", \"past\", \"pc\", \"pd\", \"pe\", \"per\", \"perhaps\", \"pf\", \"ph\", \"pi\", \"pj\", \"pk\", \"pl\", \"placed\", \"please\", \"plus\", \"pm\", \"pn\", \"po\", \"poorly\", \"possible\", \"possibly\", \"potentially\", \"pp\", \"pq\", \"pr\", \"predominantly\", \"present\", \"presumably\", \"previously\", \"primarily\", \"probably\", \"promptly\", \"proud\", \"provides\", \"ps\", \"pt\", \"pu\", \"put\", \"py\", \"q\", \"qj\", \"qu\", \"que\", \"quickly\", \"quite\", \"qv\", \"r\", \"r2\", \"ra\", \"ran\", \"rather\", \"rc\", \"rd\", \"re\", \"readily\", \"really\", \"reasonably\", \"recent\", \"recently\", \"ref\", \"refs\", \"regarding\", \"regardless\", \"regards\", \"related\", \"relatively\", \"research\", \"research-articl\", \"respectively\", \"resulted\", \"resulting\", \"results\", \"rf\", \"rh\", \"ri\", \"right\", \"rj\", \"rl\", \"rm\", \"rn\", \"ro\", \"rq\", \"rr\", \"rs\", \"rt\", \"ru\", \"run\", \"rv\", \"ry\", \"s\", \"s2\", \"sa\", \"said\", \"same\", \"saw\", \"say\", \"saying\", \"says\", \"sc\", \"sd\", \"se\", \"sec\", \"second\", \"secondly\", \"section\", \"see\", \"seeing\", \"seem\", \"seemed\", \"seeming\", \"seems\", \"seen\", \"self\", \"selves\", \"sensible\", \"sent\", \"serious\", \"seriously\", \"seven\", \"several\", \"sf\", \"shall\", \"shan\", \"shan't\", \"she\", \"shed\", \"she'd\", \"she'll\", \"shes\", \"she's\", \"should\", \"shouldn\", \"shouldn't\", \"should've\", \"show\", \"showed\", \"shown\", \"showns\", \"shows\", \"si\", \"side\", \"significant\", \"significantly\", \"similar\", \"similarly\", \"since\", \"sincere\", \"six\", \"sixty\", \"sj\", \"sl\", \"slightly\", \"sm\", \"sn\", \"so\", \"some\", \"somebody\", \"somehow\", \"someone\", \"somethan\", \"something\", \"sometime\", \"sometimes\", \"somewhat\", \"somewhere\", \"soon\", \"sorry\", \"sp\", \"specifically\", \"specified\", \"specify\", \"specifying\", \"sq\", \"sr\", \"ss\", \"st\", \"still\", \"stop\", \"strongly\", \"sub\", \"substantially\", \"successfully\", \"such\", \"sufficiently\", \"suggest\", \"sup\", \"sure\", \"sy\", \"system\", \"sz\", \"t\", \"t1\", \"t2\", \"t3\", \"take\", \"taken\", \"taking\", \"tb\", \"tc\", \"td\", \"te\", \"tell\", \"ten\", \"tends\", \"tf\", \"th\", \"than\", \"thank\", \"thanks\", \"thanx\", \"that\", \"that'll\", \"thats\", \"that's\", \"that've\", \"the\", \"their\", \"theirs\", \"them\", \"themselves\", \"then\", \"thence\", \"there\", \"thereafter\", \"thereby\", \"thered\", \"therefore\", \"therein\", \"there'll\", \"thereof\", \"therere\", \"theres\", \"there's\", \"thereto\", \"thereupon\", \"there've\", \"these\", \"they\", \"theyd\", \"they'd\", \"they'll\", \"theyre\", \"they're\", \"they've\", \"thickv\", \"thin\", \"think\", \"third\", \"this\", \"thorough\", \"thoroughly\", \"those\", \"thou\", \"though\", \"thoughh\", \"thousand\", \"three\", \"throug\", \"through\", \"throughout\", \"thru\", \"thus\", \"ti\", \"til\", \"tip\", \"tj\", \"tl\", \"tm\", \"tn\", \"to\", \"together\", \"too\", \"took\", \"top\", \"toward\", \"towards\", \"tp\", \"tq\", \"tr\", \"tried\", \"tries\", \"truly\", \"try\", \"trying\", \"ts\", \"t's\", \"tt\", \"tv\", \"twelve\", \"twenty\", \"twice\", \"two\", \"tx\", \"u\", \"u201d\", \"ue\", \"ui\", \"uj\", \"uk\", \"um\", \"un\", \"under\", \"unfortunately\", \"unless\", \"unlike\", \"unlikely\", \"until\", \"unto\", \"uo\", \"up\", \"upon\", \"ups\", \"ur\", \"us\", \"use\", \"used\", \"useful\", \"usefully\", \"usefulness\", \"uses\", \"using\", \"usually\", \"ut\", \"v\", \"va\", \"value\", \"various\", \"vd\", \"ve\", \"ve\", \"very\", \"via\", \"viz\", \"vj\", \"vo\", \"vol\", \"vols\", \"volumtype\", \"vq\", \"vs\", \"vt\", \"vu\", \"w\", \"wa\", \"want\", \"wants\", \"was\", \"wasn\", \"wasnt\", \"wasn't\", \"way\", \"we\", \"wed\", \"we'd\", \"welcome\", \"well\", \"we'll\", \"well-b\", \"went\", \"were\", \"we're\", \"weren\", \"werent\", \"weren't\", \"we've\", \"what\", \"whatever\", \"what'll\", \"whats\", \"what's\", \"when\", \"whence\", \"whenever\", \"when's\", \"where\", \"whereafter\", \"whereas\", \"whereby\", \"wherein\", \"wheres\", \"where's\", \"whereupon\", \"wherever\", \"whether\", \"which\", \"while\", \"whim\", \"whither\", \"who\", \"whod\", \"whoever\", \"whole\", \"who'll\", \"whom\", \"whomever\", \"whos\", \"who's\", \"whose\", \"why\", \"why's\", \"wi\", \"widely\", \"will\", \"willing\", \"wish\", \"with\", \"within\", \"without\", \"wo\", \"won\", \"wonder\", \"wont\", \"won't\", \"words\", \"world\", \"would\", \"wouldn\", \"wouldnt\", \"wouldn't\", \"www\", \"x\", \"x1\", \"x2\", \"x3\", \"xf\", \"xi\", \"xj\", \"xk\", \"xl\", \"xn\", \"xo\", \"xs\", \"xt\", \"xv\", \"xx\", \"y\", \"y2\", \"yes\", \"yet\", \"yj\", \"yl\", \"you\", \"youd\", \"you'd\", \"you'll\", \"your\", \"youre\", \"you're\", \"yours\", \"yourself\", \"yourselves\", \"you've\", \"yr\", \"ys\", \"yt\", \"z\", \"zero\", \"zi\", \"zz\"]"
      ],
      "metadata": {
        "id": "ZX-JoB3BNL0c"
      },
      "execution_count": 79,
      "outputs": []
    },
    {
      "cell_type": "code",
      "source": [
        "df = []\n",
        "for d in data:\n",
        "    arr = []\n",
        "    arr.append(d['rating'])\n",
        "    arr += d['rented for']\n",
        "    # if sum([get_word_embeddings(word) for word in d['review_text'].split() if word not in stop_words]) ==0:\n",
        "      # continue\n",
        "    #break\n",
        "    try:\n",
        "      arr += list(sum([get_word_embeddings(word) for word in d['review_text'].split() if word not in stop_words])/len([get_word_embeddings(word) for word in d['review_text'].split() if word not in stop_words]))\n",
        "    except:\n",
        "      arr += [0]*100\n",
        "    \n",
        "    try:\n",
        "        arr += list(sum([get_word_embeddings(word) for word in d['review_summary'].split() if word not in stop_words])/(len([get_word_embeddings(word) for word in d['review_summary'].split() if word not in stop_words])+1))\n",
        "    except:\n",
        "        arr += [0]*100\n",
        "    arr += d['body type']\n",
        "    arr.append(d['size'])\n",
        "    df.append(arr)"
      ],
      "metadata": {
        "id": "0558OJWEAeWC"
      },
      "execution_count": 80,
      "outputs": []
    },
    {
      "cell_type": "code",
      "source": [
        "len(df[1])"
      ],
      "metadata": {
        "colab": {
          "base_uri": "https://localhost:8080/"
        },
        "id": "dx5f1gLHYaAU",
        "outputId": "10d6c20e-777d-40a6-dc6d-259d05930b19"
      },
      "execution_count": 81,
      "outputs": [
        {
          "output_type": "execute_result",
          "data": {
            "text/plain": [
              "215"
            ]
          },
          "metadata": {},
          "execution_count": 81
        }
      ]
    },
    {
      "cell_type": "code",
      "source": [
        "y = dataset[\"fit\"]\n",
        "y_cat = to_categorical(y)\n",
        "split_ratio = .85\n",
        "test_y = y_cat[int(len(y_cat) * split_ratio):]\n",
        "train_y = y_cat[:int(len(y_cat) * split_ratio)]\n",
        "test_f = df[int(len(y_cat) * split_ratio):]\n",
        "train_f = df[:int(len(y_cat) * split_ratio)]\n",
        "test_f = np.array(test_f)\n",
        "train_f = np.array(train_f)"
      ],
      "metadata": {
        "id": "d67tKfpQAgP9"
      },
      "execution_count": 82,
      "outputs": []
    },
    {
      "cell_type": "code",
      "source": [
        "def recall_m(y_true, y_pred):\n",
        "    true_positives = K.sum(K.round(K.clip(y_true * y_pred, 0, 1)))\n",
        "    possible_positives = K.sum(K.round(K.clip(y_true, 0, 1)))\n",
        "    recall = true_positives / (possible_positives + K.epsilon())\n",
        "    return recall\n",
        "\n",
        "def precision_m(y_true, y_pred):\n",
        "    true_positives = K.sum(K.round(K.clip(y_true * y_pred, 0, 1)))\n",
        "    predicted_positives = K.sum(K.round(K.clip(y_pred, 0, 1)))\n",
        "    precision = true_positives / (predicted_positives + K.epsilon())\n",
        "    return precision\n",
        "\n",
        "def f1_m(y_true, y_pred):\n",
        "    precision = precision_m(y_true, y_pred)\n",
        "    recall = recall_m(y_true, y_pred)\n",
        "    return 2*((precision*recall)/(precision+recall+K.epsilon()))"
      ],
      "metadata": {
        "id": "TUBoPkIvAozI"
      },
      "execution_count": 83,
      "outputs": []
    },
    {
      "cell_type": "code",
      "source": [
        "model = Sequential()\n",
        "model.add(Dense(60, input_shape = (len(train_f[0]), ), activation = \"relu\"))\n",
        "model.add(Dense(40, activation = \"relu\"))\n",
        "model.add(Dropout(0.1))\n",
        "model.add(Dense(3, activation = \"softmax\"))\n",
        "model.compile(Adam(lr = 0.001), \"categorical_crossentropy\", metrics = ['acc',f1_m,precision_m, recall_m])\n",
        "model.summary()"
      ],
      "metadata": {
        "colab": {
          "base_uri": "https://localhost:8080/"
        },
        "id": "G7Wt55xnAq0v",
        "outputId": "bcf25202-cf40-4537-c772-38dd7cbba9fd"
      },
      "execution_count": 84,
      "outputs": [
        {
          "output_type": "stream",
          "name": "stdout",
          "text": [
            "Model: \"sequential_5\"\n",
            "_________________________________________________________________\n",
            " Layer (type)                Output Shape              Param #   \n",
            "=================================================================\n",
            " dense_15 (Dense)            (None, 60)                12960     \n",
            "                                                                 \n",
            " dense_16 (Dense)            (None, 40)                2440      \n",
            "                                                                 \n",
            " dropout_5 (Dropout)         (None, 40)                0         \n",
            "                                                                 \n",
            " dense_17 (Dense)            (None, 3)                 123       \n",
            "                                                                 \n",
            "=================================================================\n",
            "Total params: 15,523\n",
            "Trainable params: 15,523\n",
            "Non-trainable params: 0\n",
            "_________________________________________________________________\n"
          ]
        },
        {
          "output_type": "stream",
          "name": "stderr",
          "text": [
            "/usr/local/lib/python3.7/dist-packages/keras/optimizers/optimizer_v2/adam.py:110: UserWarning: The `lr` argument is deprecated, use `learning_rate` instead.\n",
            "  super(Adam, self).__init__(name, **kwargs)\n"
          ]
        }
      ]
    },
    {
      "cell_type": "code",
      "source": [
        "model_history=model.fit(train_f, train_y, verbose=1, epochs=20)"
      ],
      "metadata": {
        "colab": {
          "base_uri": "https://localhost:8080/"
        },
        "id": "cyHk9HKJAsYI",
        "outputId": "97f9a2a8-2e95-4252-c1db-50b348e78b18"
      },
      "execution_count": 85,
      "outputs": [
        {
          "output_type": "stream",
          "name": "stdout",
          "text": [
            "Epoch 1/20\n",
            "4387/4387 [==============================] - 11s 2ms/step - loss: 0.6778 - acc: 0.7453 - f1_m: 0.7378 - precision_m: 0.7752 - recall_m: 0.7055\n",
            "Epoch 2/20\n",
            "4387/4387 [==============================] - 11s 3ms/step - loss: 0.6506 - acc: 0.7548 - f1_m: 0.7481 - precision_m: 0.7838 - recall_m: 0.7167\n",
            "Epoch 3/20\n",
            "4387/4387 [==============================] - 10s 2ms/step - loss: 0.6428 - acc: 0.7576 - f1_m: 0.7523 - precision_m: 0.7852 - recall_m: 0.7230\n",
            "Epoch 4/20\n",
            "4387/4387 [==============================] - 10s 2ms/step - loss: 0.6371 - acc: 0.7600 - f1_m: 0.7537 - precision_m: 0.7854 - recall_m: 0.7255\n",
            "Epoch 5/20\n",
            "4387/4387 [==============================] - 10s 2ms/step - loss: 0.6331 - acc: 0.7620 - f1_m: 0.7561 - precision_m: 0.7863 - recall_m: 0.7291\n",
            "Epoch 6/20\n",
            "4387/4387 [==============================] - 10s 2ms/step - loss: 0.6296 - acc: 0.7626 - f1_m: 0.7568 - precision_m: 0.7863 - recall_m: 0.7305\n",
            "Epoch 7/20\n",
            "4387/4387 [==============================] - 10s 2ms/step - loss: 0.6265 - acc: 0.7640 - f1_m: 0.7586 - precision_m: 0.7876 - recall_m: 0.7326\n",
            "Epoch 8/20\n",
            "4387/4387 [==============================] - 10s 2ms/step - loss: 0.6230 - acc: 0.7656 - f1_m: 0.7600 - precision_m: 0.7887 - recall_m: 0.7342\n",
            "Epoch 9/20\n",
            "4387/4387 [==============================] - 10s 2ms/step - loss: 0.6207 - acc: 0.7653 - f1_m: 0.7607 - precision_m: 0.7894 - recall_m: 0.7348\n",
            "Epoch 10/20\n",
            "4387/4387 [==============================] - 10s 2ms/step - loss: 0.6183 - acc: 0.7666 - f1_m: 0.7613 - precision_m: 0.7899 - recall_m: 0.7356\n",
            "Epoch 11/20\n",
            "4387/4387 [==============================] - 10s 2ms/step - loss: 0.6163 - acc: 0.7672 - f1_m: 0.7624 - precision_m: 0.7903 - recall_m: 0.7374\n",
            "Epoch 12/20\n",
            "4387/4387 [==============================] - 10s 2ms/step - loss: 0.6136 - acc: 0.7680 - f1_m: 0.7637 - precision_m: 0.7908 - recall_m: 0.7392\n",
            "Epoch 13/20\n",
            "4387/4387 [==============================] - 10s 2ms/step - loss: 0.6122 - acc: 0.7683 - f1_m: 0.7637 - precision_m: 0.7915 - recall_m: 0.7387\n",
            "Epoch 14/20\n",
            "4387/4387 [==============================] - 11s 2ms/step - loss: 0.6094 - acc: 0.7692 - f1_m: 0.7645 - precision_m: 0.7916 - recall_m: 0.7401\n",
            "Epoch 15/20\n",
            "4387/4387 [==============================] - 10s 2ms/step - loss: 0.6084 - acc: 0.7695 - f1_m: 0.7655 - precision_m: 0.7924 - recall_m: 0.7413\n",
            "Epoch 16/20\n",
            "4387/4387 [==============================] - 10s 2ms/step - loss: 0.6067 - acc: 0.7708 - f1_m: 0.7662 - precision_m: 0.7929 - recall_m: 0.7422\n",
            "Epoch 17/20\n",
            "4387/4387 [==============================] - 10s 2ms/step - loss: 0.6047 - acc: 0.7716 - f1_m: 0.7662 - precision_m: 0.7929 - recall_m: 0.7421\n",
            "Epoch 18/20\n",
            "4387/4387 [==============================] - 10s 2ms/step - loss: 0.6036 - acc: 0.7715 - f1_m: 0.7666 - precision_m: 0.7926 - recall_m: 0.7431\n",
            "Epoch 19/20\n",
            "4387/4387 [==============================] - 10s 2ms/step - loss: 0.6020 - acc: 0.7722 - f1_m: 0.7680 - precision_m: 0.7944 - recall_m: 0.7442\n",
            "Epoch 20/20\n",
            "4387/4387 [==============================] - 10s 2ms/step - loss: 0.6006 - acc: 0.7728 - f1_m: 0.7684 - precision_m: 0.7947 - recall_m: 0.7446\n"
          ]
        }
      ]
    },
    {
      "cell_type": "code",
      "source": [
        "predict_x=model.predict(test_f) \n",
        "y_pred_class=np.argmax(predict_x,axis=1)"
      ],
      "metadata": {
        "colab": {
          "base_uri": "https://localhost:8080/"
        },
        "id": "QNsbFYBlAw1a",
        "outputId": "baf20ef4-8039-4ce3-b263-7454efbdc053"
      },
      "execution_count": 86,
      "outputs": [
        {
          "output_type": "stream",
          "name": "stdout",
          "text": [
            "775/775 [==============================] - 1s 1ms/step\n"
          ]
        }
      ]
    },
    {
      "cell_type": "code",
      "source": [
        "from sklearn.metrics import confusion_matrix\n",
        "y_pred = model.predict(test_f)\n",
        "y_test_class = np.argmax(test_y, axis=1)\n",
        "confusion_matrix(y_test_class, y_pred_class)"
      ],
      "metadata": {
        "colab": {
          "base_uri": "https://localhost:8080/"
        },
        "id": "gbu7LSv-BqUx",
        "outputId": "84fc7531-63a2-438f-da14-1c7cf1f1c268"
      },
      "execution_count": 87,
      "outputs": [
        {
          "output_type": "stream",
          "name": "stdout",
          "text": [
            "775/775 [==============================] - 1s 1ms/step\n"
          ]
        },
        {
          "output_type": "execute_result",
          "data": {
            "text/plain": [
              "array([[17731,   328,   184],\n",
              "       [ 2576,   639,   114],\n",
              "       [ 2563,   149,   486]])"
            ]
          },
          "metadata": {},
          "execution_count": 87
        }
      ]
    },
    {
      "cell_type": "code",
      "source": [
        "from sklearn.metrics import accuracy_score\n",
        "accuracy_score(y_test_class, y_pred_class).round(4)"
      ],
      "metadata": {
        "colab": {
          "base_uri": "https://localhost:8080/"
        },
        "id": "DPIazb4WBuCJ",
        "outputId": "785910bf-8acc-4f33-dfd4-4aa37561acfd"
      },
      "execution_count": 88,
      "outputs": [
        {
          "output_type": "execute_result",
          "data": {
            "text/plain": [
              "0.7612"
            ]
          },
          "metadata": {},
          "execution_count": 88
        }
      ]
    },
    {
      "cell_type": "code",
      "source": [
        "import seaborn as sns\n",
        "fig = sns.countplot(y_pred_class, color='steelblue').get_figure()\n",
        "fig.suptitle(\"Fit Feature Distribution\")\n",
        "fig.savefig(\"fit_statistics.png\")"
      ],
      "metadata": {
        "colab": {
          "base_uri": "https://localhost:8080/",
          "height": 349
        },
        "id": "ffMBRdxiB3pW",
        "outputId": "35707e2f-3bb1-429a-a35b-e04c0b546544"
      },
      "execution_count": 89,
      "outputs": [
        {
          "output_type": "stream",
          "name": "stderr",
          "text": [
            "/usr/local/lib/python3.7/dist-packages/seaborn/_decorators.py:43: FutureWarning: Pass the following variable as a keyword arg: x. From version 0.12, the only valid positional argument will be `data`, and passing other arguments without an explicit keyword will result in an error or misinterpretation.\n",
            "  FutureWarning\n"
          ]
        },
        {
          "output_type": "display_data",
          "data": {
            "text/plain": [
              "<Figure size 432x288 with 1 Axes>"
            ],
            "image/png": "[encoded data removed]"
          },
          "metadata": {
            "needs_background": "light"
          }
        }
      ]
    },
    {
      "cell_type": "code",
      "source": [
        "acc_curve=sns.lineplot(y=model_history.history['acc'],x=range(0,20))\n",
        "acc_curve.set(xlabel =\"epoch\", ylabel = \"accuracy\", title ='model accuracy')\n",
        "acc_curve.figure.savefig(\"accuracy_curve.png\")"
      ],
      "metadata": {
        "colab": {
          "base_uri": "https://localhost:8080/",
          "height": 295
        },
        "id": "AAEnnHvOS_Pb",
        "outputId": "1dd7d45f-34e3-4aec-c17c-0e61a4829d7e"
      },
      "execution_count": 90,
      "outputs": [
        {
          "output_type": "display_data",
          "data": {
            "text/plain": [
              "<Figure size 432x288 with 1 Axes>"
            ],
            "image/png": "[encoded data removed]"
          },
          "metadata": {
            "needs_background": "light"
          }
        }
      ]
    },
    {
      "cell_type": "code",
      "source": [
        "loss_curve=sns.lineplot(y=model_history.history['loss'],x=range(0,20))\n",
        "loss_curve.set(xlabel =\"epoch\", ylabel = \"loss\", title ='model loss')\n",
        "loss_curve.figure.savefig(\"loss_curve.png\")"
      ],
      "metadata": {
        "colab": {
          "base_uri": "https://localhost:8080/",
          "height": 295
        },
        "id": "g1OTpWh6UQkh",
        "outputId": "9f1b0368-8444-4062-fbac-f6ce381b5ad2"
      },
      "execution_count": 91,
      "outputs": [
        {
          "output_type": "display_data",
          "data": {
            "text/plain": [
              "<Figure size 432x288 with 1 Axes>"
            ],
            "image/png": "[encoded data removed]"
          },
          "metadata": {
            "needs_background": "light"
          }
        }
      ]
    },
    {
      "cell_type": "code",
      "source": [
        "embeddings_dict = {}\n",
        "with open(\"glove.6B.50d.txt\", 'r') as f:\n",
        "    for line in f:\n",
        "        values = line.split()\n",
        "        word = values[0]\n",
        "        vector = np.asarray(values[1:], \"float32\")\n",
        "        embeddings_dict[word] = vector"
      ],
      "metadata": {
        "id": "Y8VNKi_QSVo0"
      },
      "execution_count": 62,
      "outputs": []
    },
    {
      "cell_type": "code",
      "source": [
        "def get_word_embeddings(word):\n",
        "    try:\n",
        "        return embeddings_dict[word]\n",
        "    except KeyError:\n",
        "        return np.zeros(50)"
      ],
      "metadata": {
        "id": "DjP2Mv0pAKD4"
      },
      "execution_count": 63,
      "outputs": []
    },
    {
      "cell_type": "code",
      "source": [
        "df = []\n",
        "for d in data:\n",
        "    arr = []\n",
        "#     arr.append(d['weight'])\n",
        "    arr.append(d['rating'])\n",
        "    arr += d['rented for']\n",
        "    # if sum([get_word_embeddings(word) for word in d['review_text'].split() if word not in stop_words]) ==0:\n",
        "      # continue\n",
        "    #break\n",
        "    try:\n",
        "      arr += list(sum([get_word_embeddings(word) for word in d['review_text'].split() if word not in stop_words])/len([get_word_embeddings(word) for word in d['review_text'].split() if word not in stop_words]))\n",
        "    except:\n",
        "      arr += [0]*50\n",
        "    \n",
        "    try:\n",
        "        arr += list(sum([get_word_embeddings(word) for word in d['review_summary'].split() if word not in stop_words])/(len([get_word_embeddings(word) for word in d['review_summary'].split() if word not in stop_words])+1))\n",
        "    except:\n",
        "        arr += [0]*50\n",
        "    arr += d['body type']\n",
        "    arr.append(d['size'])\n",
        "    df.append(arr)"
      ],
      "metadata": {
        "id": "4Be-DoduAOvb"
      },
      "execution_count": 64,
      "outputs": []
    },
    {
      "cell_type": "code",
      "source": [
        "y = dataset[\"fit\"]\n",
        "y_cat = to_categorical(y)\n",
        "split_ratio = .85\n",
        "test_y = y_cat[int(len(y_cat) * split_ratio):]\n",
        "train_y = y_cat[:int(len(y_cat) * split_ratio)]\n",
        "test_f = df[int(len(y_cat) * split_ratio):]\n",
        "train_f = df[:int(len(y_cat) * split_ratio)]\n",
        "test_f = np.array(test_f)\n",
        "train_f = np.array(train_f)"
      ],
      "metadata": {
        "id": "sGFVbHQTAU8R"
      },
      "execution_count": 65,
      "outputs": []
    },
    {
      "cell_type": "code",
      "source": [
        "model = Sequential()\n",
        "model.add(Dense(60, input_shape = (len(train_f[0]), ), activation = \"relu\"))\n",
        "model.add(Dense(40, activation = \"relu\"))\n",
        "model.add(Dropout(0.1))\n",
        "model.add(Dense(3, activation = \"softmax\"))\n",
        "model.compile(Adam(lr = 0.001), \"categorical_crossentropy\", metrics = ['acc',f1_m,precision_m, recall_m])\n",
        "model.summary()"
      ],
      "metadata": {
        "colab": {
          "base_uri": "https://localhost:8080/"
        },
        "id": "wv2DdswwAWs4",
        "outputId": "5d6ecf1e-8a08-40b6-a0fe-81a8bec120c3"
      },
      "execution_count": 66,
      "outputs": [
        {
          "output_type": "stream",
          "name": "stdout",
          "text": [
            "Model: \"sequential_4\"\n",
            "_________________________________________________________________\n",
            " Layer (type)                Output Shape              Param #   \n",
            "=================================================================\n",
            " dense_12 (Dense)            (None, 60)                6960      \n",
            "                                                                 \n",
            " dense_13 (Dense)            (None, 40)                2440      \n",
            "                                                                 \n",
            " dropout_4 (Dropout)         (None, 40)                0         \n",
            "                                                                 \n",
            " dense_14 (Dense)            (None, 3)                 123       \n",
            "                                                                 \n",
            "=================================================================\n",
            "Total params: 9,523\n",
            "Trainable params: 9,523\n",
            "Non-trainable params: 0\n",
            "_________________________________________________________________\n"
          ]
        },
        {
          "output_type": "stream",
          "name": "stderr",
          "text": [
            "/usr/local/lib/python3.7/dist-packages/keras/optimizers/optimizer_v2/adam.py:110: UserWarning: The `lr` argument is deprecated, use `learning_rate` instead.\n",
            "  super(Adam, self).__init__(name, **kwargs)\n"
          ]
        }
      ]
    },
    {
      "cell_type": "code",
      "source": [
        "model_history=model.fit(train_f, train_y, verbose=1, epochs=20)"
      ],
      "metadata": {
        "colab": {
          "base_uri": "https://localhost:8080/"
        },
        "id": "QJggfs45AY_O",
        "outputId": "b16c6169-1b4c-4c9d-a456-bfec20a7aad4"
      },
      "execution_count": 67,
      "outputs": [
        {
          "output_type": "stream",
          "name": "stdout",
          "text": [
            "Epoch 1/20\n",
            "4387/4387 [==============================] - 10s 2ms/step - loss: 0.6972 - acc: 0.7411 - f1_m: 0.7359 - precision_m: 0.7618 - recall_m: 0.7127\n",
            "Epoch 2/20\n",
            "4387/4387 [==============================] - 9s 2ms/step - loss: 0.6796 - acc: 0.7456 - f1_m: 0.7405 - precision_m: 0.7690 - recall_m: 0.7150\n",
            "Epoch 3/20\n",
            "4387/4387 [==============================] - 10s 2ms/step - loss: 0.6735 - acc: 0.7474 - f1_m: 0.7424 - precision_m: 0.7696 - recall_m: 0.7180\n",
            "Epoch 4/20\n",
            "4387/4387 [==============================] - 9s 2ms/step - loss: 0.6701 - acc: 0.7493 - f1_m: 0.7445 - precision_m: 0.7704 - recall_m: 0.7212\n",
            "Epoch 5/20\n",
            "4387/4387 [==============================] - 9s 2ms/step - loss: 0.6659 - acc: 0.7497 - f1_m: 0.7450 - precision_m: 0.7710 - recall_m: 0.7215\n",
            "Epoch 6/20\n",
            "4387/4387 [==============================] - 10s 2ms/step - loss: 0.6632 - acc: 0.7508 - f1_m: 0.7460 - precision_m: 0.7726 - recall_m: 0.7221\n",
            "Epoch 7/20\n",
            "4387/4387 [==============================] - 9s 2ms/step - loss: 0.6596 - acc: 0.7520 - f1_m: 0.7467 - precision_m: 0.7734 - recall_m: 0.7226\n",
            "Epoch 8/20\n",
            "4387/4387 [==============================] - 9s 2ms/step - loss: 0.6569 - acc: 0.7540 - f1_m: 0.7481 - precision_m: 0.7753 - recall_m: 0.7236\n",
            "Epoch 9/20\n",
            "4387/4387 [==============================] - 10s 2ms/step - loss: 0.6546 - acc: 0.7545 - f1_m: 0.7492 - precision_m: 0.7757 - recall_m: 0.7253\n",
            "Epoch 10/20\n",
            "4387/4387 [==============================] - 9s 2ms/step - loss: 0.6525 - acc: 0.7544 - f1_m: 0.7495 - precision_m: 0.7757 - recall_m: 0.7260\n",
            "Epoch 11/20\n",
            "4387/4387 [==============================] - 9s 2ms/step - loss: 0.6509 - acc: 0.7550 - f1_m: 0.7507 - precision_m: 0.7767 - recall_m: 0.7272\n",
            "Epoch 12/20\n",
            "4387/4387 [==============================] - 9s 2ms/step - loss: 0.6493 - acc: 0.7559 - f1_m: 0.7512 - precision_m: 0.7772 - recall_m: 0.7277\n",
            "Epoch 13/20\n",
            "4387/4387 [==============================] - 9s 2ms/step - loss: 0.6473 - acc: 0.7560 - f1_m: 0.7514 - precision_m: 0.7777 - recall_m: 0.7277\n",
            "Epoch 14/20\n",
            "4387/4387 [==============================] - 11s 2ms/step - loss: 0.6461 - acc: 0.7572 - f1_m: 0.7516 - precision_m: 0.7774 - recall_m: 0.7283\n",
            "Epoch 15/20\n",
            "4387/4387 [==============================] - 9s 2ms/step - loss: 0.6443 - acc: 0.7572 - f1_m: 0.7526 - precision_m: 0.7780 - recall_m: 0.7297\n",
            "Epoch 16/20\n",
            "4387/4387 [==============================] - 9s 2ms/step - loss: 0.6433 - acc: 0.7586 - f1_m: 0.7535 - precision_m: 0.7790 - recall_m: 0.7304\n",
            "Epoch 17/20\n",
            "4387/4387 [==============================] - 9s 2ms/step - loss: 0.6423 - acc: 0.7587 - f1_m: 0.7538 - precision_m: 0.7786 - recall_m: 0.7313\n",
            "Epoch 18/20\n",
            "4387/4387 [==============================] - 9s 2ms/step - loss: 0.6400 - acc: 0.7591 - f1_m: 0.7544 - precision_m: 0.7802 - recall_m: 0.7311\n",
            "Epoch 19/20\n",
            "4387/4387 [==============================] - 9s 2ms/step - loss: 0.6395 - acc: 0.7593 - f1_m: 0.7548 - precision_m: 0.7803 - recall_m: 0.7317\n",
            "Epoch 20/20\n",
            "4387/4387 [==============================] - 9s 2ms/step - loss: 0.6383 - acc: 0.7602 - f1_m: 0.7555 - precision_m: 0.7805 - recall_m: 0.7328\n"
          ]
        }
      ]
    },
    {
      "cell_type": "code",
      "source": [
        "from sklearn.metrics import confusion_matrix\n",
        "y_pred = model.predict(test_f)\n",
        "y_test_class = np.argmax(test_y, axis=1)\n",
        "confusion_matrix(y_test_class, y_pred_class)"
      ],
      "metadata": {
        "colab": {
          "base_uri": "https://localhost:8080/"
        },
        "id": "81U7uQlHAea7",
        "outputId": "1cf3afa8-112d-4d31-baef-04d5badf7b27"
      },
      "execution_count": 68,
      "outputs": [
        {
          "output_type": "stream",
          "name": "stdout",
          "text": [
            "775/775 [==============================] - 1s 1ms/step\n"
          ]
        },
        {
          "output_type": "execute_result",
          "data": {
            "text/plain": [
              "array([[17650,   313,   280],\n",
              "       [ 2508,   665,   156],\n",
              "       [ 2453,   162,   583]])"
            ]
          },
          "metadata": {},
          "execution_count": 68
        }
      ]
    },
    {
      "cell_type": "code",
      "source": [
        "from sklearn.metrics import accuracy_score\n",
        "accuracy_score(y_test_class, y_pred_class).round(4)"
      ],
      "metadata": {
        "colab": {
          "base_uri": "https://localhost:8080/"
        },
        "id": "Wv5qPrY4Cfqo",
        "outputId": "f4b21952-da28-4bac-a7d6-fe8728b9dd94"
      },
      "execution_count": 69,
      "outputs": [
        {
          "output_type": "execute_result",
          "data": {
            "text/plain": [
              "0.7629"
            ]
          },
          "metadata": {},
          "execution_count": 69
        }
      ]
    },
    {
      "cell_type": "code",
      "source": [
        "import seaborn as sns\n",
        "fig = sns.countplot(y_pred_class, color='steelblue').get_figure()\n",
        "fig.suptitle(\"Fit Feature Distribution\")\n",
        "fig.savefig(\"fit_statistics.png\")"
      ],
      "metadata": {
        "colab": {
          "base_uri": "https://localhost:8080/",
          "height": 349
        },
        "id": "TV7ki5GICgQA",
        "outputId": "a97f629c-469a-421f-8d74-146a1c2225ef"
      },
      "execution_count": 70,
      "outputs": [
        {
          "output_type": "stream",
          "name": "stderr",
          "text": [
            "/usr/local/lib/python3.7/dist-packages/seaborn/_decorators.py:43: FutureWarning: Pass the following variable as a keyword arg: x. From version 0.12, the only valid positional argument will be `data`, and passing other arguments without an explicit keyword will result in an error or misinterpretation.\n",
            "  FutureWarning\n"
          ]
        },
        {
          "output_type": "display_data",
          "data": {
            "text/plain": [
              "<Figure size 432x288 with 1 Axes>"
            ],
            "image/png": "[encoded data removed]"
          },
          "metadata": {
            "needs_background": "light"
          }
        }
      ]
    },
    {
      "cell_type": "code",
      "source": [
        "acc_curve=sns.lineplot(y=model_history.history['acc'],x=range(0,20))\n",
        "acc_curve.set(xlabel =\"epoch\", ylabel = \"accuracy\", title ='model accuracy')\n",
        "acc_curve.figure.savefig(\"accuracy_curve.png\")"
      ],
      "metadata": {
        "colab": {
          "base_uri": "https://localhost:8080/",
          "height": 295
        },
        "id": "EGbGGu3hCp0n",
        "outputId": "a42a98ed-df87-4fe4-fb81-3b5ebe632dd7"
      },
      "execution_count": 73,
      "outputs": [
        {
          "output_type": "display_data",
          "data": {
            "text/plain": [
              "<Figure size 432x288 with 1 Axes>"
            ],
            "image/png": "[encoded data removed]"
          },
          "metadata": {
            "needs_background": "light"
          }
        }
      ]
    },
    {
      "cell_type": "code",
      "source": [
        "loss_curve=sns.lineplot(y=model_history.history['loss'],x=range(0,20))\n",
        "loss_curve.set(xlabel =\"epoch\", ylabel = \"loss\", title ='model loss')\n",
        "loss_curve.figure.savefig(\"loss_curve.png\")"
      ],
      "metadata": {
        "colab": {
          "base_uri": "https://localhost:8080/",
          "height": 295
        },
        "id": "oeP2kgeJCsHD",
        "outputId": "cff34b7f-4892-4c7b-8cd8-12ce518ad78b"
      },
      "execution_count": 74,
      "outputs": [
        {
          "output_type": "display_data",
          "data": {
            "text/plain": [
              "<Figure size 432x288 with 1 Axes>"
            ],
            "image/png": "[encoded data removed]"
          },
          "metadata": {
            "needs_background": "light"
          }
        }
      ]
    },
    {
      "cell_type": "code",
      "source": [],
      "metadata": {
        "id": "zJy63gi7CuRG"
      },
      "execution_count": null,
      "outputs": []
    }
  ]
}