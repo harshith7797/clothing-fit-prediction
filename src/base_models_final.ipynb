{
  "cells": [
    {
      "cell_type": "code",
      "execution_count": 1,
      "metadata": {
        "id": "26Ed8vbUkgAI"
      },
      "outputs": [],
      "source": [
        "import gzip\n",
        "from collections import defaultdict\n",
        "import math\n",
        "import scipy.optimize\n",
        "from sklearn import svm\n",
        "import numpy\n",
        "import string\n",
        "import random\n",
        "from sklearn import linear_model\n",
        "import scipy\n",
        "import tensorflow as tf\n",
        "import pandas as pd \n",
        "from sklearn.preprocessing import StandardScaler, MinMaxScaler\n",
        "from sklearn.metrics import accuracy_score, f1_score, precision_score, recall_score, confusion_matrix\n",
        "from sklearn.ensemble import RandomForestClassifier\n",
        "from sklearn.ensemble import AdaBoostClassifier\n",
        "from collections import defaultdict\n",
        "from sklearn.ensemble import GradientBoostingClassifier\n",
        "from sklearn.neighbors import KNeighborsClassifier\n",
        "from sklearn.naive_bayes import MultinomialNB\n",
        "import seaborn as sns"
      ]
    },
    {
      "cell_type": "code",
      "execution_count": 2,
      "metadata": {
        "id": "xAhAHvtrkgAK"
      },
      "outputs": [],
      "source": [
        "import warnings\n",
        "warnings.filterwarnings(\"ignore\")"
      ]
    },
    {
      "cell_type": "code",
      "execution_count": 3,
      "metadata": {
        "id": "-CXJPOGykgAL"
      },
      "outputs": [],
      "source": [
        "def BER(predictions, y):\n",
        "    TP = sum([(p and l) for (p,l) in zip(predictions, y)])\n",
        "    FP = sum([(p and not l) for (p,l) in zip(predictions, y)])\n",
        "    TN = sum([(not p and not l) for (p,l) in zip(predictions, y)])\n",
        "    FN = sum([(not p and l) for (p,l) in zip(predictions, y)])\n",
        "    TPR = TP / (TP + FN)\n",
        "    TNR = TN / (TN + FP)\n",
        "    BER = 1 - 1/2 * (TPR + TNR)\n",
        "    return BER"
      ]
    },
    {
      "cell_type": "code",
      "execution_count": 6,
      "metadata": {
        "id": "UHgupNZ4kgAM",
        "colab": {
          "base_uri": "https://localhost:8080/"
        },
        "outputId": "34a839b6-b336-43c3-b2a7-746ebc01b13e"
      },
      "outputs": [
        {
          "output_type": "execute_result",
          "data": {
            "text/plain": [
              "fit                       object\n",
              "user_id                    int64\n",
              "bust size                 object\n",
              "item_id                    int64\n",
              "weight                   float64\n",
              "rating                   float64\n",
              "rented for                object\n",
              "review_text               object\n",
              "body type                 object\n",
              "review_summary            object\n",
              "category                  object\n",
              "height                   float64\n",
              "size                       int64\n",
              "age                      float64\n",
              "review_date       datetime64[ns]\n",
              "review_year                int64\n",
              "review_month               int64\n",
              "adjectives                 int64\n",
              "review_length              int64\n",
              "review_words               int64\n",
              "review_ex                  int64\n",
              "dtype: object"
            ]
          },
          "metadata": {},
          "execution_count": 6
        }
      ],
      "source": [
        "data = pd.read_pickle(\"renttherunway_data_processed.pkl\")\n",
        "#data = pd.DataFrame(processed_data).to_dict('record')\n",
        "data.dtypes"
      ]
    },
    {
      "cell_type": "code",
      "source": [
        "data.head(5)"
      ],
      "metadata": {
        "colab": {
          "base_uri": "https://localhost:8080/",
          "height": 595
        },
        "id": "eo6g6Cv2YbiT",
        "outputId": "a2a3dfbe-84ca-44b8-d2b9-8dc5bd9427ac"
      },
      "execution_count": 7,
      "outputs": [
        {
          "output_type": "execute_result",
          "data": {
            "text/plain": [
              "   fit  user_id bust size  item_id  weight  rating     rented for  \\\n",
              "0  fit   420272       34d  2260466   137.0    10.0       vacation   \n",
              "1  fit   273551       34b   153475   132.0    10.0          other   \n",
              "3  fit   909926       34c   126335   135.0     8.0  formal affair   \n",
              "4  fit   151944       34b   616682   145.0    10.0        wedding   \n",
              "5  fit   734848       32b   364092   138.0     8.0           date   \n",
              "\n",
              "                                         review_text          body type  \\\n",
              "0  An adorable romper! Belt and zipper were a lit...          hourglass   \n",
              "1  I rented this dress for a photo shoot. The the...  straight & narrow   \n",
              "3  I rented this for my company's black tie award...               pear   \n",
              "4  I have always been petite in my upper body and...           athletic   \n",
              "5  Didn't actually wear it. It fit perfectly. The...           athletic   \n",
              "\n",
              "                                     review_summary  ... height  size   age  \\\n",
              "0                              So many compliments!  ...   68.0    14  28.0   \n",
              "1                           I felt so glamourous!!!  ...   66.0    12  36.0   \n",
              "3  Dress arrived on time and in perfect condition.   ...   65.0     8  34.0   \n",
              "4                   Was in love with this dress !!!  ...   69.0    12  27.0   \n",
              "5                   Traditional with a touch a sass  ...   68.0     8  45.0   \n",
              "\n",
              "   review_date review_year  review_month  adjectives  review_length  \\\n",
              "0   2016-04-20        2016             4           6            221   \n",
              "1   2013-06-18        2013             6           3            221   \n",
              "3   2014-02-12        2014             2           9            465   \n",
              "4   2016-09-26        2016             9          15            559   \n",
              "5   2016-04-30        2016             4           4            195   \n",
              "\n",
              "   review_words  review_ex  \n",
              "0            39          2  \n",
              "1            42          0  \n",
              "3            89          2  \n",
              "4           112          1  \n",
              "5            37          0  \n",
              "\n",
              "[5 rows x 21 columns]"
            ],
            "text/html": [
              "\n",
              "  <div id=\"df-c59f9df1-0f2f-48b1-ba99-529849e3892d\">\n",
              "    <div class=\"colab-df-container\">\n",
              "      <div>\n",
              "<style scoped>\n",
              "    .dataframe tbody tr th:only-of-type {\n",
              "        vertical-align: middle;\n",
              "    }\n",
              "\n",
              "    .dataframe tbody tr th {\n",
              "        vertical-align: top;\n",
              "    }\n",
              "\n",
              "    .dataframe thead th {\n",
              "        text-align: right;\n",
              "    }\n",
              "</style>\n",
              "<table border=\"1\" class=\"dataframe\">\n",
              "  <thead>\n",
              "    <tr style=\"text-align: right;\">\n",
              "      <th></th>\n",
              "      <th>fit</th>\n",
              "      <th>user_id</th>\n",
              "      <th>bust size</th>\n",
              "      <th>item_id</th>\n",
              "      <th>weight</th>\n",
              "      <th>rating</th>\n",
              "      <th>rented for</th>\n",
              "      <th>review_text</th>\n",
              "      <th>body type</th>\n",
              "      <th>review_summary</th>\n",
              "      <th>...</th>\n",
              "      <th>height</th>\n",
              "      <th>size</th>\n",
              "      <th>age</th>\n",
              "      <th>review_date</th>\n",
              "      <th>review_year</th>\n",
              "      <th>review_month</th>\n",
              "      <th>adjectives</th>\n",
              "      <th>review_length</th>\n",
              "      <th>review_words</th>\n",
              "      <th>review_ex</th>\n",
              "    </tr>\n",
              "  </thead>\n",
              "  <tbody>\n",
              "    <tr>\n",
              "      <th>0</th>\n",
              "      <td>fit</td>\n",
              "      <td>420272</td>\n",
              "      <td>34d</td>\n",
              "      <td>2260466</td>\n",
              "      <td>137.0</td>\n",
              "      <td>10.0</td>\n",
              "      <td>vacation</td>\n",
              "      <td>An adorable romper! Belt and zipper were a lit...</td>\n",
              "      <td>hourglass</td>\n",
              "      <td>So many compliments!</td>\n",
              "      <td>...</td>\n",
              "      <td>68.0</td>\n",
              "      <td>14</td>\n",
              "      <td>28.0</td>\n",
              "      <td>2016-04-20</td>\n",
              "      <td>2016</td>\n",
              "      <td>4</td>\n",
              "      <td>6</td>\n",
              "      <td>221</td>\n",
              "      <td>39</td>\n",
              "      <td>2</td>\n",
              "    </tr>\n",
              "    <tr>\n",
              "      <th>1</th>\n",
              "      <td>fit</td>\n",
              "      <td>273551</td>\n",
              "      <td>34b</td>\n",
              "      <td>153475</td>\n",
              "      <td>132.0</td>\n",
              "      <td>10.0</td>\n",
              "      <td>other</td>\n",
              "      <td>I rented this dress for a photo shoot. The the...</td>\n",
              "      <td>straight &amp; narrow</td>\n",
              "      <td>I felt so glamourous!!!</td>\n",
              "      <td>...</td>\n",
              "      <td>66.0</td>\n",
              "      <td>12</td>\n",
              "      <td>36.0</td>\n",
              "      <td>2013-06-18</td>\n",
              "      <td>2013</td>\n",
              "      <td>6</td>\n",
              "      <td>3</td>\n",
              "      <td>221</td>\n",
              "      <td>42</td>\n",
              "      <td>0</td>\n",
              "    </tr>\n",
              "    <tr>\n",
              "      <th>3</th>\n",
              "      <td>fit</td>\n",
              "      <td>909926</td>\n",
              "      <td>34c</td>\n",
              "      <td>126335</td>\n",
              "      <td>135.0</td>\n",
              "      <td>8.0</td>\n",
              "      <td>formal affair</td>\n",
              "      <td>I rented this for my company's black tie award...</td>\n",
              "      <td>pear</td>\n",
              "      <td>Dress arrived on time and in perfect condition.</td>\n",
              "      <td>...</td>\n",
              "      <td>65.0</td>\n",
              "      <td>8</td>\n",
              "      <td>34.0</td>\n",
              "      <td>2014-02-12</td>\n",
              "      <td>2014</td>\n",
              "      <td>2</td>\n",
              "      <td>9</td>\n",
              "      <td>465</td>\n",
              "      <td>89</td>\n",
              "      <td>2</td>\n",
              "    </tr>\n",
              "    <tr>\n",
              "      <th>4</th>\n",
              "      <td>fit</td>\n",
              "      <td>151944</td>\n",
              "      <td>34b</td>\n",
              "      <td>616682</td>\n",
              "      <td>145.0</td>\n",
              "      <td>10.0</td>\n",
              "      <td>wedding</td>\n",
              "      <td>I have always been petite in my upper body and...</td>\n",
              "      <td>athletic</td>\n",
              "      <td>Was in love with this dress !!!</td>\n",
              "      <td>...</td>\n",
              "      <td>69.0</td>\n",
              "      <td>12</td>\n",
              "      <td>27.0</td>\n",
              "      <td>2016-09-26</td>\n",
              "      <td>2016</td>\n",
              "      <td>9</td>\n",
              "      <td>15</td>\n",
              "      <td>559</td>\n",
              "      <td>112</td>\n",
              "      <td>1</td>\n",
              "    </tr>\n",
              "    <tr>\n",
              "      <th>5</th>\n",
              "      <td>fit</td>\n",
              "      <td>734848</td>\n",
              "      <td>32b</td>\n",
              "      <td>364092</td>\n",
              "      <td>138.0</td>\n",
              "      <td>8.0</td>\n",
              "      <td>date</td>\n",
              "      <td>Didn't actually wear it. It fit perfectly. The...</td>\n",
              "      <td>athletic</td>\n",
              "      <td>Traditional with a touch a sass</td>\n",
              "      <td>...</td>\n",
              "      <td>68.0</td>\n",
              "      <td>8</td>\n",
              "      <td>45.0</td>\n",
              "      <td>2016-04-30</td>\n",
              "      <td>2016</td>\n",
              "      <td>4</td>\n",
              "      <td>4</td>\n",
              "      <td>195</td>\n",
              "      <td>37</td>\n",
              "      <td>0</td>\n",
              "    </tr>\n",
              "  </tbody>\n",
              "</table>\n",
              "<p>5 rows × 21 columns</p>\n",
              "</div>\n",
              "      <button class=\"colab-df-convert\" onclick=\"convertToInteractive('df-c59f9df1-0f2f-48b1-ba99-529849e3892d')\"\n",
              "              title=\"Convert this dataframe to an interactive table.\"\n",
              "              style=\"display:none;\">\n",
              "        \n",
              "  <svg xmlns=\"http://www.w3.org/2000/svg\" height=\"24px\"viewBox=\"0 0 24 24\"\n",
              "       width=\"24px\">\n",
              "    <path d=\"M0 0h24v24H0V0z\" fill=\"none\"/>\n",
              "    <path d=\"M18.56 5.44l.94 2.06.94-2.06 2.06-.94-2.06-.94-.94-2.06-.94 2.06-2.06.94zm-11 1L8.5 8.5l.94-2.06 2.06-.94-2.06-.94L8.5 2.5l-.94 2.06-2.06.94zm10 10l.94 2.06.94-2.06 2.06-.94-2.06-.94-.94-2.06-.94 2.06-2.06.94z\"/><path d=\"M17.41 7.96l-1.37-1.37c-.4-.4-.92-.59-1.43-.59-.52 0-1.04.2-1.43.59L10.3 9.45l-7.72 7.72c-.78.78-.78 2.05 0 2.83L4 21.41c.39.39.9.59 1.41.59.51 0 1.02-.2 1.41-.59l7.78-7.78 2.81-2.81c.8-.78.8-2.07 0-2.86zM5.41 20L4 18.59l7.72-7.72 1.47 1.35L5.41 20z\"/>\n",
              "  </svg>\n",
              "      </button>\n",
              "      \n",
              "  <style>\n",
              "    .colab-df-container {\n",
              "      display:flex;\n",
              "      flex-wrap:wrap;\n",
              "      gap: 12px;\n",
              "    }\n",
              "\n",
              "    .colab-df-convert {\n",
              "      background-color: #E8F0FE;\n",
              "      border: none;\n",
              "      border-radius: 50%;\n",
              "      cursor: pointer;\n",
              "      display: none;\n",
              "      fill: #1967D2;\n",
              "      height: 32px;\n",
              "      padding: 0 0 0 0;\n",
              "      width: 32px;\n",
              "    }\n",
              "\n",
              "    .colab-df-convert:hover {\n",
              "      background-color: #E2EBFA;\n",
              "      box-shadow: 0px 1px 2px rgba(60, 64, 67, 0.3), 0px 1px 3px 1px rgba(60, 64, 67, 0.15);\n",
              "      fill: #174EA6;\n",
              "    }\n",
              "\n",
              "    [theme=dark] .colab-df-convert {\n",
              "      background-color: #3B4455;\n",
              "      fill: #D2E3FC;\n",
              "    }\n",
              "\n",
              "    [theme=dark] .colab-df-convert:hover {\n",
              "      background-color: #434B5C;\n",
              "      box-shadow: 0px 1px 3px 1px rgba(0, 0, 0, 0.15);\n",
              "      filter: drop-shadow(0px 1px 2px rgba(0, 0, 0, 0.3));\n",
              "      fill: #FFFFFF;\n",
              "    }\n",
              "  </style>\n",
              "\n",
              "      <script>\n",
              "        const buttonEl =\n",
              "          document.querySelector('#df-c59f9df1-0f2f-48b1-ba99-529849e3892d button.colab-df-convert');\n",
              "        buttonEl.style.display =\n",
              "          google.colab.kernel.accessAllowed ? 'block' : 'none';\n",
              "\n",
              "        async function convertToInteractive(key) {\n",
              "          const element = document.querySelector('#df-c59f9df1-0f2f-48b1-ba99-529849e3892d');\n",
              "          const dataTable =\n",
              "            await google.colab.kernel.invokeFunction('convertToInteractive',\n",
              "                                                     [key], {});\n",
              "          if (!dataTable) return;\n",
              "\n",
              "          const docLinkHtml = 'Like what you see? Visit the ' +\n",
              "            '<a target=\"_blank\" href=https://colab.research.google.com/notebooks/data_table.ipynb>data table notebook</a>'\n",
              "            + ' to learn more about interactive tables.';\n",
              "          element.innerHTML = '';\n",
              "          dataTable['output_type'] = 'display_data';\n",
              "          await google.colab.output.renderOutput(dataTable, element);\n",
              "          const docLink = document.createElement('div');\n",
              "          docLink.innerHTML = docLinkHtml;\n",
              "          element.appendChild(docLink);\n",
              "        }\n",
              "      </script>\n",
              "    </div>\n",
              "  </div>\n",
              "  "
            ]
          },
          "metadata": {},
          "execution_count": 7
        }
      ]
    },
    {
      "cell_type": "code",
      "source": [
        "feature_list = []"
      ],
      "metadata": {
        "id": "kK0XgloJmTZS"
      },
      "execution_count": 8,
      "outputs": []
    },
    {
      "cell_type": "code",
      "execution_count": 9,
      "metadata": {
        "id": "PwhvW489kgAM"
      },
      "outputs": [],
      "source": [
        "#features to consider for the model \n",
        "bustsize = lambda x: int(x[0:2])\n",
        "data[\"bust size\"] = data[\"bust size\"].apply(bustsize)"
      ]
    },
    {
      "cell_type": "code",
      "source": [
        "data.head(5)"
      ],
      "metadata": {
        "colab": {
          "base_uri": "https://localhost:8080/",
          "height": 595
        },
        "id": "xzC5HN1ZXnog",
        "outputId": "8f0f4f3f-8d4c-4483-d5c9-219f9f9247da"
      },
      "execution_count": 10,
      "outputs": [
        {
          "output_type": "execute_result",
          "data": {
            "text/plain": [
              "   fit  user_id  bust size  item_id  weight  rating     rented for  \\\n",
              "0  fit   420272         34  2260466   137.0    10.0       vacation   \n",
              "1  fit   273551         34   153475   132.0    10.0          other   \n",
              "3  fit   909926         34   126335   135.0     8.0  formal affair   \n",
              "4  fit   151944         34   616682   145.0    10.0        wedding   \n",
              "5  fit   734848         32   364092   138.0     8.0           date   \n",
              "\n",
              "                                         review_text          body type  \\\n",
              "0  An adorable romper! Belt and zipper were a lit...          hourglass   \n",
              "1  I rented this dress for a photo shoot. The the...  straight & narrow   \n",
              "3  I rented this for my company's black tie award...               pear   \n",
              "4  I have always been petite in my upper body and...           athletic   \n",
              "5  Didn't actually wear it. It fit perfectly. The...           athletic   \n",
              "\n",
              "                                     review_summary  ... height  size   age  \\\n",
              "0                              So many compliments!  ...   68.0    14  28.0   \n",
              "1                           I felt so glamourous!!!  ...   66.0    12  36.0   \n",
              "3  Dress arrived on time and in perfect condition.   ...   65.0     8  34.0   \n",
              "4                   Was in love with this dress !!!  ...   69.0    12  27.0   \n",
              "5                   Traditional with a touch a sass  ...   68.0     8  45.0   \n",
              "\n",
              "   review_date review_year  review_month  adjectives  review_length  \\\n",
              "0   2016-04-20        2016             4           6            221   \n",
              "1   2013-06-18        2013             6           3            221   \n",
              "3   2014-02-12        2014             2           9            465   \n",
              "4   2016-09-26        2016             9          15            559   \n",
              "5   2016-04-30        2016             4           4            195   \n",
              "\n",
              "   review_words  review_ex  \n",
              "0            39          2  \n",
              "1            42          0  \n",
              "3            89          2  \n",
              "4           112          1  \n",
              "5            37          0  \n",
              "\n",
              "[5 rows x 21 columns]"
            ],
            "text/html": [
              "\n",
              "  <div id=\"df-e180bd69-cfec-48a4-b700-ec3f58681201\">\n",
              "    <div class=\"colab-df-container\">\n",
              "      <div>\n",
              "<style scoped>\n",
              "    .dataframe tbody tr th:only-of-type {\n",
              "        vertical-align: middle;\n",
              "    }\n",
              "\n",
              "    .dataframe tbody tr th {\n",
              "        vertical-align: top;\n",
              "    }\n",
              "\n",
              "    .dataframe thead th {\n",
              "        text-align: right;\n",
              "    }\n",
              "</style>\n",
              "<table border=\"1\" class=\"dataframe\">\n",
              "  <thead>\n",
              "    <tr style=\"text-align: right;\">\n",
              "      <th></th>\n",
              "      <th>fit</th>\n",
              "      <th>user_id</th>\n",
              "      <th>bust size</th>\n",
              "      <th>item_id</th>\n",
              "      <th>weight</th>\n",
              "      <th>rating</th>\n",
              "      <th>rented for</th>\n",
              "      <th>review_text</th>\n",
              "      <th>body type</th>\n",
              "      <th>review_summary</th>\n",
              "      <th>...</th>\n",
              "      <th>height</th>\n",
              "      <th>size</th>\n",
              "      <th>age</th>\n",
              "      <th>review_date</th>\n",
              "      <th>review_year</th>\n",
              "      <th>review_month</th>\n",
              "      <th>adjectives</th>\n",
              "      <th>review_length</th>\n",
              "      <th>review_words</th>\n",
              "      <th>review_ex</th>\n",
              "    </tr>\n",
              "  </thead>\n",
              "  <tbody>\n",
              "    <tr>\n",
              "      <th>0</th>\n",
              "      <td>fit</td>\n",
              "      <td>420272</td>\n",
              "      <td>34</td>\n",
              "      <td>2260466</td>\n",
              "      <td>137.0</td>\n",
              "      <td>10.0</td>\n",
              "      <td>vacation</td>\n",
              "      <td>An adorable romper! Belt and zipper were a lit...</td>\n",
              "      <td>hourglass</td>\n",
              "      <td>So many compliments!</td>\n",
              "      <td>...</td>\n",
              "      <td>68.0</td>\n",
              "      <td>14</td>\n",
              "      <td>28.0</td>\n",
              "      <td>2016-04-20</td>\n",
              "      <td>2016</td>\n",
              "      <td>4</td>\n",
              "      <td>6</td>\n",
              "      <td>221</td>\n",
              "      <td>39</td>\n",
              "      <td>2</td>\n",
              "    </tr>\n",
              "    <tr>\n",
              "      <th>1</th>\n",
              "      <td>fit</td>\n",
              "      <td>273551</td>\n",
              "      <td>34</td>\n",
              "      <td>153475</td>\n",
              "      <td>132.0</td>\n",
              "      <td>10.0</td>\n",
              "      <td>other</td>\n",
              "      <td>I rented this dress for a photo shoot. The the...</td>\n",
              "      <td>straight &amp; narrow</td>\n",
              "      <td>I felt so glamourous!!!</td>\n",
              "      <td>...</td>\n",
              "      <td>66.0</td>\n",
              "      <td>12</td>\n",
              "      <td>36.0</td>\n",
              "      <td>2013-06-18</td>\n",
              "      <td>2013</td>\n",
              "      <td>6</td>\n",
              "      <td>3</td>\n",
              "      <td>221</td>\n",
              "      <td>42</td>\n",
              "      <td>0</td>\n",
              "    </tr>\n",
              "    <tr>\n",
              "      <th>3</th>\n",
              "      <td>fit</td>\n",
              "      <td>909926</td>\n",
              "      <td>34</td>\n",
              "      <td>126335</td>\n",
              "      <td>135.0</td>\n",
              "      <td>8.0</td>\n",
              "      <td>formal affair</td>\n",
              "      <td>I rented this for my company's black tie award...</td>\n",
              "      <td>pear</td>\n",
              "      <td>Dress arrived on time and in perfect condition.</td>\n",
              "      <td>...</td>\n",
              "      <td>65.0</td>\n",
              "      <td>8</td>\n",
              "      <td>34.0</td>\n",
              "      <td>2014-02-12</td>\n",
              "      <td>2014</td>\n",
              "      <td>2</td>\n",
              "      <td>9</td>\n",
              "      <td>465</td>\n",
              "      <td>89</td>\n",
              "      <td>2</td>\n",
              "    </tr>\n",
              "    <tr>\n",
              "      <th>4</th>\n",
              "      <td>fit</td>\n",
              "      <td>151944</td>\n",
              "      <td>34</td>\n",
              "      <td>616682</td>\n",
              "      <td>145.0</td>\n",
              "      <td>10.0</td>\n",
              "      <td>wedding</td>\n",
              "      <td>I have always been petite in my upper body and...</td>\n",
              "      <td>athletic</td>\n",
              "      <td>Was in love with this dress !!!</td>\n",
              "      <td>...</td>\n",
              "      <td>69.0</td>\n",
              "      <td>12</td>\n",
              "      <td>27.0</td>\n",
              "      <td>2016-09-26</td>\n",
              "      <td>2016</td>\n",
              "      <td>9</td>\n",
              "      <td>15</td>\n",
              "      <td>559</td>\n",
              "      <td>112</td>\n",
              "      <td>1</td>\n",
              "    </tr>\n",
              "    <tr>\n",
              "      <th>5</th>\n",
              "      <td>fit</td>\n",
              "      <td>734848</td>\n",
              "      <td>32</td>\n",
              "      <td>364092</td>\n",
              "      <td>138.0</td>\n",
              "      <td>8.0</td>\n",
              "      <td>date</td>\n",
              "      <td>Didn't actually wear it. It fit perfectly. The...</td>\n",
              "      <td>athletic</td>\n",
              "      <td>Traditional with a touch a sass</td>\n",
              "      <td>...</td>\n",
              "      <td>68.0</td>\n",
              "      <td>8</td>\n",
              "      <td>45.0</td>\n",
              "      <td>2016-04-30</td>\n",
              "      <td>2016</td>\n",
              "      <td>4</td>\n",
              "      <td>4</td>\n",
              "      <td>195</td>\n",
              "      <td>37</td>\n",
              "      <td>0</td>\n",
              "    </tr>\n",
              "  </tbody>\n",
              "</table>\n",
              "<p>5 rows × 21 columns</p>\n",
              "</div>\n",
              "      <button class=\"colab-df-convert\" onclick=\"convertToInteractive('df-e180bd69-cfec-48a4-b700-ec3f58681201')\"\n",
              "              title=\"Convert this dataframe to an interactive table.\"\n",
              "              style=\"display:none;\">\n",
              "        \n",
              "  <svg xmlns=\"http://www.w3.org/2000/svg\" height=\"24px\"viewBox=\"0 0 24 24\"\n",
              "       width=\"24px\">\n",
              "    <path d=\"M0 0h24v24H0V0z\" fill=\"none\"/>\n",
              "    <path d=\"M18.56 5.44l.94 2.06.94-2.06 2.06-.94-2.06-.94-.94-2.06-.94 2.06-2.06.94zm-11 1L8.5 8.5l.94-2.06 2.06-.94-2.06-.94L8.5 2.5l-.94 2.06-2.06.94zm10 10l.94 2.06.94-2.06 2.06-.94-2.06-.94-.94-2.06-.94 2.06-2.06.94z\"/><path d=\"M17.41 7.96l-1.37-1.37c-.4-.4-.92-.59-1.43-.59-.52 0-1.04.2-1.43.59L10.3 9.45l-7.72 7.72c-.78.78-.78 2.05 0 2.83L4 21.41c.39.39.9.59 1.41.59.51 0 1.02-.2 1.41-.59l7.78-7.78 2.81-2.81c.8-.78.8-2.07 0-2.86zM5.41 20L4 18.59l7.72-7.72 1.47 1.35L5.41 20z\"/>\n",
              "  </svg>\n",
              "      </button>\n",
              "      \n",
              "  <style>\n",
              "    .colab-df-container {\n",
              "      display:flex;\n",
              "      flex-wrap:wrap;\n",
              "      gap: 12px;\n",
              "    }\n",
              "\n",
              "    .colab-df-convert {\n",
              "      background-color: #E8F0FE;\n",
              "      border: none;\n",
              "      border-radius: 50%;\n",
              "      cursor: pointer;\n",
              "      display: none;\n",
              "      fill: #1967D2;\n",
              "      height: 32px;\n",
              "      padding: 0 0 0 0;\n",
              "      width: 32px;\n",
              "    }\n",
              "\n",
              "    .colab-df-convert:hover {\n",
              "      background-color: #E2EBFA;\n",
              "      box-shadow: 0px 1px 2px rgba(60, 64, 67, 0.3), 0px 1px 3px 1px rgba(60, 64, 67, 0.15);\n",
              "      fill: #174EA6;\n",
              "    }\n",
              "\n",
              "    [theme=dark] .colab-df-convert {\n",
              "      background-color: #3B4455;\n",
              "      fill: #D2E3FC;\n",
              "    }\n",
              "\n",
              "    [theme=dark] .colab-df-convert:hover {\n",
              "      background-color: #434B5C;\n",
              "      box-shadow: 0px 1px 3px 1px rgba(0, 0, 0, 0.15);\n",
              "      filter: drop-shadow(0px 1px 2px rgba(0, 0, 0, 0.3));\n",
              "      fill: #FFFFFF;\n",
              "    }\n",
              "  </style>\n",
              "\n",
              "      <script>\n",
              "        const buttonEl =\n",
              "          document.querySelector('#df-e180bd69-cfec-48a4-b700-ec3f58681201 button.colab-df-convert');\n",
              "        buttonEl.style.display =\n",
              "          google.colab.kernel.accessAllowed ? 'block' : 'none';\n",
              "\n",
              "        async function convertToInteractive(key) {\n",
              "          const element = document.querySelector('#df-e180bd69-cfec-48a4-b700-ec3f58681201');\n",
              "          const dataTable =\n",
              "            await google.colab.kernel.invokeFunction('convertToInteractive',\n",
              "                                                     [key], {});\n",
              "          if (!dataTable) return;\n",
              "\n",
              "          const docLinkHtml = 'Like what you see? Visit the ' +\n",
              "            '<a target=\"_blank\" href=https://colab.research.google.com/notebooks/data_table.ipynb>data table notebook</a>'\n",
              "            + ' to learn more about interactive tables.';\n",
              "          element.innerHTML = '';\n",
              "          dataTable['output_type'] = 'display_data';\n",
              "          await google.colab.output.renderOutput(dataTable, element);\n",
              "          const docLink = document.createElement('div');\n",
              "          docLink.innerHTML = docLinkHtml;\n",
              "          element.appendChild(docLink);\n",
              "        }\n",
              "      </script>\n",
              "    </div>\n",
              "  </div>\n",
              "  "
            ]
          },
          "metadata": {},
          "execution_count": 10
        }
      ]
    },
    {
      "cell_type": "code",
      "source": [
        "btype_data = data[\"body type\"].value_counts()\n",
        "btypes = list(btype_data.keys())\n",
        "feature_list += (btypes)\n",
        "for btype in btypes:\n",
        "  bfun = lambda x: 1 if (x==btype) else 0\n",
        "  data[btype] = data[\"body type\"].apply(bfun)"
      ],
      "metadata": {
        "id": "48KXwwLSjwG3"
      },
      "execution_count": 11,
      "outputs": []
    },
    {
      "cell_type": "code",
      "source": [
        "rtype_data = data[\"rented for\"].value_counts()\n",
        "rtypes = list(rtype_data.keys())\n",
        "feature_list += rtypes\n",
        "for rtype in rtypes:\n",
        "  rfun = lambda x: 1 if (x==rtype) else 0\n",
        "  data[rtype] = data[\"body type\"].apply(rfun)"
      ],
      "metadata": {
        "id": "3QsNxG2qlydY"
      },
      "execution_count": 12,
      "outputs": []
    },
    {
      "cell_type": "code",
      "source": [
        "feature_list.remove('party: cocktail')"
      ],
      "metadata": {
        "id": "5Bsn2fiZmxSQ"
      },
      "execution_count": 13,
      "outputs": []
    },
    {
      "cell_type": "code",
      "source": [
        "data.dtypes"
      ],
      "metadata": {
        "colab": {
          "base_uri": "https://localhost:8080/"
        },
        "id": "9Hlf-5SSlgys",
        "outputId": "bc84e339-8ac2-4a5a-b571-82fc58e5b005"
      },
      "execution_count": 14,
      "outputs": [
        {
          "output_type": "execute_result",
          "data": {
            "text/plain": [
              "fit                          object\n",
              "user_id                       int64\n",
              "bust size                     int64\n",
              "item_id                       int64\n",
              "weight                      float64\n",
              "rating                      float64\n",
              "rented for                   object\n",
              "review_text                  object\n",
              "body type                    object\n",
              "review_summary               object\n",
              "category                     object\n",
              "height                      float64\n",
              "size                          int64\n",
              "age                         float64\n",
              "review_date          datetime64[ns]\n",
              "review_year                   int64\n",
              "review_month                  int64\n",
              "adjectives                    int64\n",
              "review_length                 int64\n",
              "review_words                  int64\n",
              "review_ex                     int64\n",
              "hourglass                     int64\n",
              "athletic                      int64\n",
              "pear                          int64\n",
              "petite                        int64\n",
              "straight & narrow             int64\n",
              "full bust                     int64\n",
              "apple                         int64\n",
              "wedding                       int64\n",
              "formal affair                 int64\n",
              "party                         int64\n",
              "everyday                      int64\n",
              "work                          int64\n",
              "other                         int64\n",
              "date                          int64\n",
              "vacation                      int64\n",
              "party: cocktail               int64\n",
              "dtype: object"
            ]
          },
          "metadata": {},
          "execution_count": 14
        }
      ]
    },
    {
      "cell_type": "code",
      "source": [
        "def feature(d):\n",
        "    f = [1,\n",
        "         d['rating'],\n",
        "         d['review_length'],\n",
        "         len(d['review_summary']),\n",
        "         d['weight'],\n",
        "         d['age'],\n",
        "         d['height'],\n",
        "         d['bust size']]\n",
        "    for e in feature_list:\n",
        "      f.append(d[e])\n",
        "    return f"
      ],
      "metadata": {
        "id": "SpXXHIUmoLgL"
      },
      "execution_count": 15,
      "outputs": []
    },
    {
      "cell_type": "code",
      "source": [
        "inputdata = pd.DataFrame(data).to_dict('record')\n",
        "X = [feature(d) for d in inputdata]\n",
        "y = [d['fit'] for d in inputdata]"
      ],
      "metadata": {
        "id": "ZFbjtunCpMB3"
      },
      "execution_count": 16,
      "outputs": []
    },
    {
      "cell_type": "code",
      "source": [
        "scaler = MinMaxScaler()\n",
        "X = scaler.fit_transform(X)"
      ],
      "metadata": {
        "id": "m7gkgojRr_CR"
      },
      "execution_count": 17,
      "outputs": []
    },
    {
      "cell_type": "code",
      "source": [
        "X_train = X[0:int(0.8*len(data))]\n",
        "X_test = X[int(0.8*len(data)):]\n",
        "\n",
        "y_train = y[0:int(0.8*len(data))]\n",
        "y_test = y[int(0.8*len(data)):]"
      ],
      "metadata": {
        "id": "2IKHVSTQs8FB"
      },
      "execution_count": 18,
      "outputs": []
    },
    {
      "cell_type": "code",
      "source": [
        "model1 = linear_model.LogisticRegression(random_state=0, multi_class='multinomial', class_weight='balanced')\n",
        "model1.fit(X_train, y_train)\n",
        "\n",
        "ypred = model1.predict(X_test)\n",
        "print('random_state: ',0)\n",
        "test_accuracy = accuracy_score(y_test, ypred)\n",
        "test_f1_score = f1_score(y_test, ypred, average='weighted')\n",
        "test_precision_score = precision_score(y_test, ypred, average='weighted')\n",
        "test_recall_score = recall_score(y_test, ypred, average='weighted')\n",
        "\n",
        "print('Test Accuracy:', test_accuracy)\n",
        "print('Test F1 Score:', test_f1_score)\n",
        "print('Test Precision Score:', test_precision_score)\n",
        "print('Test Recall Score:', test_recall_score)\n",
        "\n"
      ],
      "metadata": {
        "colab": {
          "base_uri": "https://localhost:8080/"
        },
        "id": "FDe4XVpCs_H_",
        "outputId": "d982e21d-6223-4341-f0bc-503236d8e765"
      },
      "execution_count": 22,
      "outputs": [
        {
          "output_type": "stream",
          "name": "stdout",
          "text": [
            "random_state:  0\n",
            "Test Accuracy: 0.5819354448010658\n",
            "Test F1 Score: 0.6100788308435646\n",
            "Test Precision Score: 0.6517726337242464\n",
            "Test Recall Score: 0.5819354448010658\n"
          ]
        }
      ]
    },
    {
      "cell_type": "code",
      "source": [
        "\n",
        "model2 = GradientBoostingClassifier(random_state=50)\n",
        "model2.fit(X_train, y_train)\n",
        "\n",
        "ypred = model2.predict(X_test)\n",
        "print('random_state: ',50)\n",
        "test_accuracy = accuracy_score(y_test, ypred)\n",
        "test_f1_score = f1_score(y_test, ypred, average='weighted')\n",
        "test_precision_score = precision_score(y_test, ypred, average='weighted')\n",
        "test_recall_score = recall_score(y_test, ypred, average='weighted')\n",
        "\n",
        "print('Test Accuracy:', test_accuracy)\n",
        "print('Test F1 Score:', test_f1_score)\n",
        "print('Test Precision Score:', test_precision_score)\n",
        "print('Test Recall Score:', test_recall_score)\n"
      ],
      "metadata": {
        "colab": {
          "base_uri": "https://localhost:8080/"
        },
        "id": "OVMij7HiE6vg",
        "outputId": "160e7c2e-329d-47a5-d08f-3ae9e3156e58"
      },
      "execution_count": 24,
      "outputs": [
        {
          "output_type": "stream",
          "name": "stdout",
          "text": [
            "random_state:  50\n",
            "Test Accuracy: 0.738902682734815\n",
            "Test F1 Score: 0.6419162817173231\n",
            "Test Precision Score: 0.6649164829658674\n",
            "Test Recall Score: 0.738902682734815\n"
          ]
        }
      ]
    },
    {
      "cell_type": "code",
      "source": [
        "model3 = AdaBoostClassifier(learning_rate=1)\n",
        "model3.fit(X_train, y_train)"
      ],
      "metadata": {
        "colab": {
          "base_uri": "https://localhost:8080/"
        },
        "id": "isVLAtOYax1y",
        "outputId": "6e01f045-27c3-47a8-b472-16b8ef52c2be"
      },
      "execution_count": 37,
      "outputs": [
        {
          "output_type": "execute_result",
          "data": {
            "text/plain": [
              "AdaBoostClassifier(algorithm='SAMME', learning_rate=1)"
            ]
          },
          "metadata": {},
          "execution_count": 37
        }
      ]
    },
    {
      "cell_type": "code",
      "source": [
        "for i in [50,70,90,100]:\n",
        "  model3 = AdaBoostClassifier(n_estimators=i)\n",
        "  model3.fit(X_train, y_train)\n",
        "\n",
        "  ypred = model3.predict(X_test)\n",
        "  print('n_estimators: ',i)\n",
        "  test_accuracy = accuracy_score(y_test, ypred)\n",
        "  test_f1_score = f1_score(y_test, ypred, average='weighted')\n",
        "  test_precision_score = precision_score(y_test, ypred, average='weighted')\n",
        "  test_recall_score = recall_score(y_test, ypred, average='weighted')\n",
        "\n",
        "  print('Test Accuracy:', test_accuracy)\n",
        "  print('Test F1 Score:', test_f1_score)\n",
        "  print('Test Precision Score:', test_precision_score)\n",
        "  print('Test Recall Score:', test_recall_score)\n",
        "\n",
        "  print('................')\n",
        "\n",
        "\n"
      ],
      "metadata": {
        "colab": {
          "base_uri": "https://localhost:8080/"
        },
        "id": "PcJtL_CObvuI",
        "outputId": "a0ecaeab-45b9-4394-c4ff-7bb65ef6e86c"
      },
      "execution_count": 53,
      "outputs": [
        {
          "output_type": "stream",
          "name": "stdout",
          "text": [
            "n_estimators:  50\n",
            "Test Accuracy: 0.7364803488160843\n",
            "Test F1 Score: 0.6362905003314131\n",
            "Test Precision Score: 0.6367964780631562\n",
            "Test Recall Score: 0.7364803488160843\n",
            "................\n",
            "n_estimators:  70\n",
            "Test Accuracy: 0.7366620238599891\n",
            "Test F1 Score: 0.6366110498949408\n",
            "Test Precision Score: 0.6409524204280885\n",
            "Test Recall Score: 0.7366620238599891\n",
            "................\n",
            "n_estimators:  90\n",
            "Test Accuracy: 0.7366014655120209\n",
            "Test F1 Score: 0.6364521247768041\n",
            "Test Precision Score: 0.6384948700154107\n",
            "Test Recall Score: 0.7366014655120209\n",
            "................\n",
            "n_estimators:  100\n",
            "Test Accuracy: 0.7365409071640525\n",
            "Test F1 Score: 0.6364323920282786\n",
            "Test Precision Score: 0.6398685881498074\n",
            "Test Recall Score: 0.7365409071640525\n",
            "................\n"
          ]
        }
      ]
    },
    {
      "cell_type": "code",
      "source": [
        "import xgboost as xgb\n",
        "for i in [0.01,0.2,0.4,0.8,1]:\n",
        "  model4=xgb.XGBClassifier(random_state=50,learning_rate=i)\n",
        "  model4.fit(X_train, y_train)\n",
        "\n",
        "  ypred = model4.predict(X_test)\n",
        "  print('learning_rates=',i)\n",
        "  test_accuracy = accuracy_score(y_test, ypred)\n",
        "  test_f1_score = f1_score(y_test, ypred, average='weighted')\n",
        "  test_precision_score = precision_score(y_test, ypred, average='weighted')\n",
        "  test_recall_score = recall_score(y_test, ypred, average='weighted')\n",
        "\n",
        "  print('Test Accuracy:', test_accuracy)\n",
        "  print('Test F1 Score:', test_f1_score)\n",
        "  print('Test Precision Score:', test_precision_score)\n",
        "  print('Test Recall Score:', test_recall_score)\n",
        "\n",
        "  print('................')\n"
      ],
      "metadata": {
        "colab": {
          "base_uri": "https://localhost:8080/"
        },
        "id": "jG59Uktpc2dQ",
        "outputId": "60ce55f2-28f8-41e0-bb9a-4ec898638a8d"
      },
      "execution_count": 58,
      "outputs": [
        {
          "output_type": "stream",
          "name": "stdout",
          "text": [
            "learning_rates= 0.01\n",
            "Test Accuracy: 0.7381759825591958\n",
            "Test F1 Score: 0.6415017643840593\n",
            "Test Precision Score: 0.6617514765421472\n",
            "Test Recall Score: 0.7381759825591958\n",
            "................\n",
            "learning_rates= 0.2\n",
            "Test Accuracy: 0.7385090534730212\n",
            "Test F1 Score: 0.6412645143259534\n",
            "Test Precision Score: 0.6641404886732213\n",
            "Test Recall Score: 0.7385090534730212\n",
            "................\n",
            "learning_rates= 0.4\n",
            "Test Accuracy: 0.7385393326470054\n",
            "Test F1 Score: 0.6415826985233454\n",
            "Test Precision Score: 0.6633361861675516\n",
            "Test Recall Score: 0.7385393326470054\n",
            "................\n",
            "learning_rates= 0.8\n",
            "Test Accuracy: 0.7381457033852117\n",
            "Test F1 Score: 0.6428793626222234\n",
            "Test Precision Score: 0.6601957136423321\n",
            "Test Recall Score: 0.7381457033852117\n",
            "................\n",
            "learning_rates= 1\n",
            "Test Accuracy: 0.7371464906437353\n",
            "Test F1 Score: 0.6430775281741125\n",
            "Test Precision Score: 0.6527332800848159\n",
            "Test Recall Score: 0.7371464906437353\n",
            "................\n"
          ]
        }
      ]
    },
    {
      "cell_type": "code",
      "source": [
        "ypred = model3.predict(X_test)\n",
        "\n",
        "test_accuracy = accuracy_score(y_test, ypred)\n",
        "test_f1_score = f1_score(y_test, ypred, average='weighted')\n",
        "test_precision_score = precision_score(y_test, ypred, average='weighted')\n",
        "test_recall_score = recall_score(y_test, ypred, average='weighted')\n",
        "\n",
        "print('Test Accuracy:', test_accuracy)\n",
        "print('Test F1 Score:', test_f1_score)\n",
        "print('Test Precision Score:', test_precision_score)\n",
        "print('Test Recall Score:', test_recall_score)"
      ],
      "metadata": {
        "colab": {
          "base_uri": "https://localhost:8080/"
        },
        "id": "rtvXbBkTa8sT",
        "outputId": "f78a7b5e-6409-4fdd-fac6-b9a139916989"
      },
      "execution_count": 38,
      "outputs": [
        {
          "output_type": "stream",
          "name": "stdout",
          "text": [
            "Test Accuracy: 0.7371767698177194\n",
            "Test F1 Score: 0.6256468534470543\n",
            "Test Precision Score: 0.5434295899588869\n",
            "Test Recall Score: 0.7371767698177194\n"
          ]
        }
      ]
    },
    {
      "cell_type": "code",
      "source": [
        "from sklearn.naive_bayes import BernoulliNB\n",
        "model3 = BernoulliNB()\n",
        "model3.fit(X, y)"
      ],
      "metadata": {
        "colab": {
          "base_uri": "https://localhost:8080/"
        },
        "id": "Gus0kEaSVjdH",
        "outputId": "d9b7cf2e-588c-40f3-9079-0cfe7882d74c"
      },
      "execution_count": null,
      "outputs": [
        {
          "output_type": "execute_result",
          "data": {
            "text/plain": [
              "BernoulliNB()"
            ]
          },
          "metadata": {},
          "execution_count": 55
        }
      ]
    },
    {
      "cell_type": "code",
      "source": [
        "ypred = model3.predict(X_test)\n",
        "\n",
        "test_accuracy = accuracy_score(y_test, ypred)\n",
        "test_f1_score = f1_score(y_test, ypred, average='weighted')\n",
        "test_precision_score = precision_score(y_test, ypred, average='weighted')\n",
        "test_recall_score = recall_score(y_test, ypred, average='weighted')\n",
        "\n",
        "print('Test Accuracy:', test_accuracy)\n",
        "print('Test F1 Score:', test_f1_score)\n",
        "print('Test Precision Score:', test_precision_score)\n",
        "print('Test Recall Score:', test_recall_score)\n",
        "print(ypred)\n",
        "fig = sns.countplot(y_test, color='steelblue').get_figure()\n",
        "fig.suptitle(\"Fit Feature Distribution\")\n",
        "fig.savefig(\"fit_statistics.png\")"
      ],
      "metadata": {
        "colab": {
          "base_uri": "https://localhost:8080/",
          "height": 383
        },
        "id": "sgDPN7RqXJhg",
        "outputId": "e8ce83cf-8466-4667-9265-16f85e5caf44"
      },
      "execution_count": null,
      "outputs": [
        {
          "output_type": "stream",
          "name": "stdout",
          "text": [
            "Test Accuracy: 0.7369950947738145\n",
            "Test F1 Score: 0.6296185084688184\n",
            "Test Precision Score: 0.5919198518197517\n",
            "Test Recall Score: 0.7369950947738145\n",
            "['fit' 'fit' 'fit' ... 'fit' 'fit' 'fit']\n"
          ]
        },
        {
          "output_type": "display_data",
          "data": {
            "text/plain": [
              "<Figure size 432x288 with 1 Axes>"
            ],
            "image/png": "[encoded data removed]"
          },
          "metadata": {
            "needs_background": "light"
          }
        }
      ]
    }
  ],
  "metadata": {
    "kernelspec": {
      "display_name": "Python 3",
      "language": "python",
      "name": "python3"
    },
    "language_info": {
      "codemirror_mode": {
        "name": "ipython",
        "version": 3
      },
      "file_extension": ".py",
      "mimetype": "text/x-python",
      "name": "python",
      "nbconvert_exporter": "python",
      "pygments_lexer": "ipython3",
      "version": "3.8.3"
    },
    "colab": {
      "provenance": []
    }
  },
  "nbformat": 4,
  "nbformat_minor": 0
}