{
 "cells": [
  {
   "cell_type": "code",
   "execution_count": 1,
   "id": "a43482d6",
   "metadata": {},
   "outputs": [],
   "source": [
    "import gzip\n",
    "from collections import defaultdict\n",
    "import math\n",
    "import scipy.optimize\n",
    "from sklearn import svm\n",
    "import numpy\n",
    "import string\n",
    "import random\n",
    "from sklearn import linear_model\n",
    "import scipy\n",
    "import tensorflow as tf\n",
    "import pandas as pd \n",
    "from sklearn.preprocessing import StandardScaler, MinMaxScaler\n",
    "from sklearn.metrics import accuracy_score, f1_score, precision_score, recall_score, confusion_matrix\n",
    "from sklearn.ensemble import RandomForestClassifier\n",
    "from collections import defaultdict\n",
    "from sklearn.ensemble import GradientBoostingClassifier\n",
    "from sklearn.neighbors import KNeighborsClassifier\n",
    "from sklearn.naive_bayes import MultinomialNB\n",
    "import seaborn as sns"
   ]
  },
  {
   "cell_type": "code",
   "execution_count": 2,
   "id": "d8a3fb12",
   "metadata": {},
   "outputs": [],
   "source": [
    "import warnings\n",
    "warnings.filterwarnings(\"ignore\")"
   ]
  },
  {
   "cell_type": "code",
   "execution_count": 3,
   "id": "6929a5da",
   "metadata": {},
   "outputs": [],
   "source": [
    "def BER(predictions, y):\n",
    "    TP = sum([(p and l) for (p,l) in zip(predictions, y)])\n",
    "    FP = sum([(p and not l) for (p,l) in zip(predictions, y)])\n",
    "    TN = sum([(not p and not l) for (p,l) in zip(predictions, y)])\n",
    "    FN = sum([(not p and l) for (p,l) in zip(predictions, y)])\n",
    "    TPR = TP / (TP + FN)\n",
    "    TNR = TN / (TN + FP)\n",
    "    BER = 1 - 1/2 * (TPR + TNR)\n",
    "    return BER"
   ]
  },
  {
   "cell_type": "code",
   "execution_count": 4,
   "id": "1a181959",
   "metadata": {},
   "outputs": [
    {
     "data": {
      "text/plain": [
       "fit                       object\n",
       "user_id                    int64\n",
       "bust size                 object\n",
       "item_id                    int64\n",
       "weight                   float64\n",
       "rating                   float64\n",
       "rented for                object\n",
       "review_text               object\n",
       "body type                 object\n",
       "review_summary            object\n",
       "category                  object\n",
       "height                   float64\n",
       "size                       int64\n",
       "age                      float64\n",
       "review_date       datetime64[ns]\n",
       "review_year                int64\n",
       "review_month               int64\n",
       "adjectives                 int64\n",
       "review_length              int64\n",
       "review_words               int64\n",
       "review_ex                  int64\n",
       "dtype: object"
      ]
     },
     "execution_count": 4,
     "metadata": {},
     "output_type": "execute_result"
    }
   ],
   "source": [
    "data = pd.read_pickle(\"..\\\\data\\\\renttherunway_data_processed.pkl\")\n",
    "#data = pd.DataFrame(processed_data).to_dict('record')\n",
    "data.dtypes"
   ]
  },
  {
   "cell_type": "code",
   "execution_count": 5,
   "id": "7cf49b17",
   "metadata": {},
   "outputs": [],
   "source": [
    "bustsize = lambda x: x[2:]\n",
    "data[\"cup size\"] = data[\"bust size\"].apply(bustsize)\n"
   ]
  },
  {
   "cell_type": "code",
   "execution_count": 6,
   "id": "e6fb6bc4",
   "metadata": {},
   "outputs": [],
   "source": [
    "bustsize = lambda x: x[2:]\n",
    "data[\"strap size\"] = data[\"bust size\"].apply(bustsize)\n"
   ]
  },
  {
   "cell_type": "code",
   "execution_count": 7,
   "id": "cd087cac",
   "metadata": {},
   "outputs": [
    {
     "data": {
      "text/plain": [
       "0          d\n",
       "1          b\n",
       "3          c\n",
       "4          b\n",
       "5          b\n",
       "          ..\n",
       "192539    dd\n",
       "192540     c\n",
       "192541     a\n",
       "192542     c\n",
       "192543     b\n",
       "Name: strap size, Length: 165128, dtype: object"
      ]
     },
     "execution_count": 7,
     "metadata": {},
     "output_type": "execute_result"
    }
   ],
   "source": [
    "data[\"strap size\"]"
   ]
  },
  {
   "cell_type": "code",
   "execution_count": 8,
   "id": "887fb6bd",
   "metadata": {},
   "outputs": [],
   "source": [
    "feature_list = []"
   ]
  },
  {
   "cell_type": "code",
   "execution_count": 9,
   "id": "1ef94fb2",
   "metadata": {},
   "outputs": [],
   "source": [
    "#features to consider for the model \n",
    "bustsize = lambda x: int(x[0:2])\n",
    "data[\"bust size\"] = data[\"bust size\"].apply(bustsize)"
   ]
  },
  {
   "cell_type": "code",
   "execution_count": 10,
   "id": "8adbc1e5",
   "metadata": {},
   "outputs": [],
   "source": [
    "btype_data = data[\"body type\"].value_counts()\n",
    "btypes = list(btype_data.keys())\n",
    "feature_list += (btypes)\n",
    "for btype in btypes:\n",
    "    bfun = lambda x: 1 if (x==btype) else 0\n",
    "    data[btype] = data[\"body type\"].apply(bfun)"
   ]
  },
  {
   "cell_type": "code",
   "execution_count": 11,
   "id": "c5518682",
   "metadata": {},
   "outputs": [],
   "source": [
    "rtype_data = data[\"rented for\"].value_counts()\n",
    "rtypes = list(rtype_data.keys())\n",
    "feature_list += rtypes\n",
    "for rtype in rtypes:\n",
    "    rfun = lambda x: 1 if (x==rtype) else 0\n",
    "    data[rtype] = data[\"body type\"].apply(rfun)"
   ]
  },
  {
   "cell_type": "code",
   "execution_count": 12,
   "id": "167fe2bd",
   "metadata": {},
   "outputs": [],
   "source": [
    "feature_list.remove('party: cocktail')"
   ]
  },
  {
   "cell_type": "code",
   "execution_count": 13,
   "id": "8b8f17cc",
   "metadata": {},
   "outputs": [
    {
     "data": {
      "text/plain": [
       "fit                          object\n",
       "user_id                       int64\n",
       "bust size                     int64\n",
       "item_id                       int64\n",
       "weight                      float64\n",
       "rating                      float64\n",
       "rented for                   object\n",
       "review_text                  object\n",
       "body type                    object\n",
       "review_summary               object\n",
       "category                     object\n",
       "height                      float64\n",
       "size                          int64\n",
       "age                         float64\n",
       "review_date          datetime64[ns]\n",
       "review_year                   int64\n",
       "review_month                  int64\n",
       "adjectives                    int64\n",
       "review_length                 int64\n",
       "review_words                  int64\n",
       "review_ex                     int64\n",
       "cup size                     object\n",
       "strap size                   object\n",
       "hourglass                     int64\n",
       "athletic                      int64\n",
       "pear                          int64\n",
       "petite                        int64\n",
       "straight & narrow             int64\n",
       "full bust                     int64\n",
       "apple                         int64\n",
       "wedding                       int64\n",
       "formal affair                 int64\n",
       "party                         int64\n",
       "everyday                      int64\n",
       "work                          int64\n",
       "other                         int64\n",
       "date                          int64\n",
       "vacation                      int64\n",
       "party: cocktail               int64\n",
       "dtype: object"
      ]
     },
     "execution_count": 13,
     "metadata": {},
     "output_type": "execute_result"
    }
   ],
   "source": [
    "data.dtypes"
   ]
  },
  {
   "cell_type": "code",
   "execution_count": 14,
   "id": "370dafa1",
   "metadata": {},
   "outputs": [],
   "source": [
    "def feature(d):\n",
    "    f = [1,\n",
    "         d['rating'],\n",
    "         d['review_length'],\n",
    "         len(d['review_summary']),\n",
    "         d['weight'],\n",
    "         d['age'],\n",
    "         d['height'],\n",
    "         d['bust size']]\n",
    "    for e in feature_list:\n",
    "        f.append(d[e])\n",
    "    return f"
   ]
  },
  {
   "cell_type": "code",
   "execution_count": 35,
   "id": "d85bf463",
   "metadata": {},
   "outputs": [],
   "source": [
    "inputdata = pd.DataFrame(data).to_dict('record')\n",
    "X = [feature(d) for d in inputdata]\n",
    "y = [d['fit'] for d in inputdata]\n"
   ]
  },
  {
   "cell_type": "code",
   "execution_count": null,
   "id": "d975f991",
   "metadata": {},
   "outputs": [],
   "source": []
  },
  {
   "cell_type": "code",
   "execution_count": 36,
   "id": "da4d4716",
   "metadata": {},
   "outputs": [],
   "source": [
    "import numpy as np"
   ]
  },
  {
   "cell_type": "code",
   "execution_count": 37,
   "id": "1fad459f",
   "metadata": {},
   "outputs": [],
   "source": [
    "categories, y_categorical = np.unique(y, return_inverse=True)"
   ]
  },
  {
   "cell_type": "code",
   "execution_count": 38,
   "id": "fecde0e6",
   "metadata": {},
   "outputs": [
    {
     "data": {
      "text/plain": [
       "(array(['fit', 'large', 'small'], dtype='<U5'),\n",
       " array([0, 0, 0, ..., 0, 0, 0], dtype=int64))"
      ]
     },
     "execution_count": 38,
     "metadata": {},
     "output_type": "execute_result"
    }
   ],
   "source": [
    "categories, y_categorical"
   ]
  },
  {
   "cell_type": "code",
   "execution_count": 39,
   "id": "ffb5b54a",
   "metadata": {},
   "outputs": [],
   "source": [
    "def one_hot_encoding(y_categorical):\n",
    "    n = y_categorical.shape[0]\n",
    "    m = np.max(y_categorical) + 1\n",
    "    y_one_hot = np.zeros([n, m])\n",
    "    for i in range(n):\n",
    "        if y_categorical[i] == 0:\n",
    "            y_one_hot[i, 0] = 1\n",
    "        elif y_categorical[i] == 1:\n",
    "            y_one_hot[i, 1] = 1\n",
    "        elif y_categorical[i] == 2:\n",
    "            y_one_hot[i, 2] = 1\n",
    "    return y_one_hot"
   ]
  },
  {
   "cell_type": "code",
   "execution_count": 40,
   "id": "a63c01ef",
   "metadata": {},
   "outputs": [],
   "source": [
    "y_one_hot = one_hot_encoding(y_categorical)"
   ]
  },
  {
   "cell_type": "code",
   "execution_count": 41,
   "id": "7b034ad2",
   "metadata": {},
   "outputs": [
    {
     "data": {
      "text/plain": [
       "array([[1., 0., 0.],\n",
       "       [1., 0., 0.],\n",
       "       [1., 0., 0.],\n",
       "       ...,\n",
       "       [1., 0., 0.],\n",
       "       [1., 0., 0.],\n",
       "       [1., 0., 0.]])"
      ]
     },
     "execution_count": 41,
     "metadata": {},
     "output_type": "execute_result"
    }
   ],
   "source": [
    "y_one_hot"
   ]
  },
  {
   "cell_type": "code",
   "execution_count": 42,
   "id": "a25ec30e",
   "metadata": {},
   "outputs": [],
   "source": [
    "## CATEGORIES ##\n",
    "## FIT: 0     ##\n",
    "## LARGE: 1   ##\n",
    "## SMALL: 2   ##"
   ]
  },
  {
   "cell_type": "code",
   "execution_count": 43,
   "id": "9f6ad8c4",
   "metadata": {},
   "outputs": [],
   "source": [
    "# scaler = MinMaxScaler()\n",
    "# X = scaler.fit_transform(X)\n"
   ]
  },
  {
   "cell_type": "code",
   "execution_count": 44,
   "id": "1e33e011",
   "metadata": {},
   "outputs": [],
   "source": [
    "X_train = X[0:int(0.8*len(data))]\n",
    "X_test = X[int(0.8*len(data)):]\n",
    "\n",
    "y_train = y_one_hot[0:int(0.8*len(data))]\n",
    "y_test = y_one_hot[int(0.8*len(data)):]"
   ]
  },
  {
   "cell_type": "code",
   "execution_count": 46,
   "id": "a05d88f1",
   "metadata": {},
   "outputs": [],
   "source": [
    "X_train = np.asarray(X_train)\n",
    "X_test = np.asarray(X_test)"
   ]
  },
  {
   "cell_type": "markdown",
   "id": "8df1f666",
   "metadata": {},
   "source": [
    "## Deep Learning Model"
   ]
  },
  {
   "cell_type": "code",
   "execution_count": 47,
   "id": "a482eb9d",
   "metadata": {},
   "outputs": [],
   "source": [
    "from keras.models import Sequential\n",
    "from keras.layers import Dense, Dropout\n",
    "from tensorflow.keras.optimizers import SGD, Adam, Adadelta, RMSprop\n",
    "from collections import defaultdict\n",
    "from sklearn.preprocessing import MinMaxScaler"
   ]
  },
  {
   "cell_type": "code",
   "execution_count": 48,
   "id": "aa77d8c3",
   "metadata": {},
   "outputs": [
    {
     "name": "stdout",
     "output_type": "stream",
     "text": [
      "Model: \"sequential\"\n",
      "_________________________________________________________________\n",
      " Layer (type)                Output Shape              Param #   \n",
      "=================================================================\n",
      " dense (Dense)               (None, 60)                1440      \n",
      "                                                                 \n",
      " dense_1 (Dense)             (None, 40)                2440      \n",
      "                                                                 \n",
      " dropout (Dropout)           (None, 40)                0         \n",
      "                                                                 \n",
      " dense_2 (Dense)             (None, 3)                 123       \n",
      "                                                                 \n",
      "=================================================================\n",
      "Total params: 4,003\n",
      "Trainable params: 4,003\n",
      "Non-trainable params: 0\n",
      "_________________________________________________________________\n"
     ]
    }
   ],
   "source": [
    "model = Sequential()\n",
    "model.add(Dense(60, input_shape = (len(X_train[0]), ), activation = \"relu\"))\n",
    "model.add(Dense(40, activation = \"relu\"))\n",
    "model.add(Dropout(0.1))\n",
    "model.add(Dense(3, activation = \"softmax\"))\n",
    "model.compile(Adam(lr = 0.001), \"categorical_crossentropy\", metrics = [\"accuracy\"])\n",
    "model.summary()"
   ]
  },
  {
   "cell_type": "code",
   "execution_count": 49,
   "id": "2511a6ea",
   "metadata": {},
   "outputs": [
    {
     "name": "stdout",
     "output_type": "stream",
     "text": [
      "Epoch 1/10\n",
      "4129/4129 [==============================] - 3s 676us/step - loss: 0.8867 - accuracy: 0.7287\n",
      "Epoch 2/10\n",
      "4129/4129 [==============================] - 3s 655us/step - loss: 0.7533 - accuracy: 0.7366\n",
      "Epoch 3/10\n",
      "4129/4129 [==============================] - 3s 674us/step - loss: 0.7490 - accuracy: 0.7366\n",
      "Epoch 4/10\n",
      "4129/4129 [==============================] - 3s 726us/step - loss: 0.7432 - accuracy: 0.7366\n",
      "Epoch 5/10\n",
      "4129/4129 [==============================] - 3s 706us/step - loss: 0.7391 - accuracy: 0.7368\n",
      "Epoch 6/10\n",
      "4129/4129 [==============================] - 3s 707us/step - loss: 0.7354 - accuracy: 0.7372\n",
      "Epoch 7/10\n",
      "4129/4129 [==============================] - 3s 694us/step - loss: 0.7341 - accuracy: 0.7372\n",
      "Epoch 8/10\n",
      "4129/4129 [==============================] - 3s 704us/step - loss: 0.7337 - accuracy: 0.7369\n",
      "Epoch 9/10\n",
      "4129/4129 [==============================] - 3s 721us/step - loss: 0.7335 - accuracy: 0.7370\n",
      "Epoch 10/10\n",
      "4129/4129 [==============================] - 3s 718us/step - loss: 0.7324 - accuracy: 0.7374\n"
     ]
    },
    {
     "data": {
      "text/plain": [
       "<keras.callbacks.History at 0x28864ec29d0>"
      ]
     },
     "execution_count": 49,
     "metadata": {},
     "output_type": "execute_result"
    }
   ],
   "source": [
    "model.fit(X_train, y_train, verbose=1, epochs=10)\n"
   ]
  },
  {
   "cell_type": "markdown",
   "id": "e99fb5b7",
   "metadata": {},
   "source": [
    "## Confusion Matrix"
   ]
  },
  {
   "cell_type": "code",
   "execution_count": 28,
   "id": "a2de4691",
   "metadata": {},
   "outputs": [
    {
     "data": {
      "text/plain": [
       "array([[24201,    25,   120],\n",
       "       [ 4145,    42,    73],\n",
       "       [ 4266,    16,   138]], dtype=int64)"
      ]
     },
     "execution_count": 28,
     "metadata": {},
     "output_type": "execute_result"
    }
   ],
   "source": [
    "from sklearn.metrics import confusion_matrix\n",
    "\n",
    "y_test_class = np.argmax(y_test, axis=1)\n",
    "\n",
    "\n",
    "y_test_pred = model.predict(X_test)\n",
    "y_test_class_pred = np.argmax(y_test_pred, axis=1)\n",
    "confusion_matrix(y_test_class, y_test_class_pred)"
   ]
  },
  {
   "cell_type": "markdown",
   "id": "12d52ad0",
   "metadata": {},
   "source": [
    "## Classification report"
   ]
  },
  {
   "cell_type": "code",
   "execution_count": 29,
   "id": "68824c35",
   "metadata": {},
   "outputs": [
    {
     "name": "stdout",
     "output_type": "stream",
     "text": [
      "              precision    recall  f1-score   support\n",
      "\n",
      "           0       0.74      0.99      0.85     24346\n",
      "           1       0.51      0.01      0.02      4260\n",
      "           2       0.42      0.03      0.06      4420\n",
      "\n",
      "    accuracy                           0.74     33026\n",
      "   macro avg       0.56      0.35      0.31     33026\n",
      "weighted avg       0.67      0.74      0.64     33026\n",
      "\n"
     ]
    }
   ],
   "source": [
    "from sklearn.metrics import classification_report\n",
    "print(classification_report(y_test_class, y_test_class_pred), digits=4)"
   ]
  },
  {
   "cell_type": "code",
   "execution_count": 52,
   "id": "d3b5cbb3",
   "metadata": {},
   "outputs": [
    {
     "name": "stdout",
     "output_type": "stream",
     "text": [
      "              precision    recall  f1-score   support\n",
      "\n",
      "           0     0.7413    0.9946    0.8495     24346\n",
      "           1     0.0000    0.0000    0.0000      4260\n",
      "           2     0.3934    0.0321    0.0594      4420\n",
      "\n",
      "    accuracy                         0.7375     33026\n",
      "   macro avg     0.3782    0.3422    0.3030     33026\n",
      "weighted avg     0.5991    0.7375    0.6341     33026\n",
      "\n"
     ]
    }
   ],
   "source": [
    "from sklearn.metrics import classification_report\n",
    "print(classification_report(y_test_class, y_test_class_pred, digits=4))"
   ]
  },
  {
   "cell_type": "code",
   "execution_count": 30,
   "id": "02cabcc3",
   "metadata": {},
   "outputs": [
    {
     "data": {
      "text/plain": [
       "array([0, 2, 0, ..., 0, 0, 0], dtype=int64)"
      ]
     },
     "execution_count": 30,
     "metadata": {},
     "output_type": "execute_result"
    }
   ],
   "source": [
    "y_test_class"
   ]
  },
  {
   "cell_type": "code",
   "execution_count": 31,
   "id": "f006113b",
   "metadata": {},
   "outputs": [
    {
     "data": {
      "image/png": "[encoded data removed]",
      "text/plain": [
       "<Figure size 432x288 with 1 Axes>"
      ]
     },
     "metadata": {
      "needs_background": "light"
     },
     "output_type": "display_data"
    }
   ],
   "source": [
    "fig = sns.countplot(y_test_class_pred, color='steelblue').get_figure()\n",
    "fig.suptitle(\"Fit Feature Distribution\")\n",
    "fig.savefig(\"fit_statistics.png\")"
   ]
  },
  {
   "cell_type": "code",
   "execution_count": 56,
   "id": "c936022e",
   "metadata": {},
   "outputs": [
    {
     "name": "stdout",
     "output_type": "stream",
     "text": [
      "Model: \"sequential_2\"\n",
      "_________________________________________________________________\n",
      " Layer (type)                Output Shape              Param #   \n",
      "=================================================================\n",
      " dense_6 (Dense)             (None, 80)                1920      \n",
      "                                                                 \n",
      " dense_7 (Dense)             (None, 50)                4050      \n",
      "                                                                 \n",
      " dropout_2 (Dropout)         (None, 50)                0         \n",
      "                                                                 \n",
      " dense_8 (Dense)             (None, 3)                 153       \n",
      "                                                                 \n",
      "=================================================================\n",
      "Total params: 6,123\n",
      "Trainable params: 6,123\n",
      "Non-trainable params: 0\n",
      "_________________________________________________________________\n"
     ]
    }
   ],
   "source": [
    "model2 = Sequential()\n",
    "model2.add(Dense(80, input_shape = (len(X_train[0]), ), activation = \"relu\"))\n",
    "model2.add(Dense(50, activation = \"relu\"))\n",
    "model2.add(Dropout(0.15))\n",
    "model2.add(Dense(3, activation = \"softmax\"))\n",
    "model2.compile(Adam(lr = 0.03), \"categorical_crossentropy\", metrics = [\"accuracy\"])\n",
    "model2.summary()"
   ]
  },
  {
   "cell_type": "code",
   "execution_count": 57,
   "id": "4b4f54cd",
   "metadata": {},
   "outputs": [
    {
     "name": "stdout",
     "output_type": "stream",
     "text": [
      "Epoch 1/10\n",
      "4129/4129 [==============================] - 3s 744us/step - loss: 0.8382 - accuracy: 0.7358\n",
      "Epoch 2/10\n",
      "4129/4129 [==============================] - 3s 693us/step - loss: 0.7606 - accuracy: 0.7366\n",
      "Epoch 3/10\n",
      "4129/4129 [==============================] - 3s 704us/step - loss: 0.7606 - accuracy: 0.7366\n",
      "Epoch 4/10\n",
      "4129/4129 [==============================] - 3s 694us/step - loss: 0.7606 - accuracy: 0.7366\n",
      "Epoch 5/10\n",
      "4129/4129 [==============================] - 3s 682us/step - loss: 0.7605 - accuracy: 0.7366\n",
      "Epoch 6/10\n",
      "4129/4129 [==============================] - 3s 694us/step - loss: 0.7605 - accuracy: 0.7366\n",
      "Epoch 7/10\n",
      "4129/4129 [==============================] - 3s 680us/step - loss: 0.7606 - accuracy: 0.7366\n",
      "Epoch 8/10\n",
      "4129/4129 [==============================] - 3s 740us/step - loss: 0.7606 - accuracy: 0.7366\n",
      "Epoch 9/10\n",
      "4129/4129 [==============================] - 3s 805us/step - loss: 0.7606 - accuracy: 0.7366\n",
      "Epoch 10/10\n",
      "4129/4129 [==============================] - 3s 747us/step - loss: 0.7604 - accuracy: 0.7366\n"
     ]
    },
    {
     "data": {
      "text/plain": [
       "<keras.callbacks.History at 0x288663c79a0>"
      ]
     },
     "execution_count": 57,
     "metadata": {},
     "output_type": "execute_result"
    }
   ],
   "source": [
    "model2.fit(X_train, y_train, verbose=1, epochs=10)\n"
   ]
  },
  {
   "cell_type": "code",
   "execution_count": 58,
   "id": "b19f82e3",
   "metadata": {},
   "outputs": [
    {
     "data": {
      "text/plain": [
       "array([[24346,     0,     0],\n",
       "       [ 4260,     0,     0],\n",
       "       [ 4420,     0,     0]], dtype=int64)"
      ]
     },
     "execution_count": 58,
     "metadata": {},
     "output_type": "execute_result"
    }
   ],
   "source": [
    "from sklearn.metrics import confusion_matrix\n",
    "\n",
    "y_test_class = np.argmax(y_test, axis=1)\n",
    "\n",
    "\n",
    "y_test_pred = model2.predict(X_test)\n",
    "y_test_class_pred = np.argmax(y_test_pred, axis=1)\n",
    "confusion_matrix(y_test_class, y_test_class_pred)"
   ]
  },
  {
   "cell_type": "code",
   "execution_count": 60,
   "id": "2e39008e",
   "metadata": {},
   "outputs": [
    {
     "name": "stdout",
     "output_type": "stream",
     "text": [
      "              precision    recall  f1-score   support\n",
      "\n",
      "           0     0.7372    1.0000    0.8487     24346\n",
      "           1     0.0000    0.0000    0.0000      4260\n",
      "           2     0.0000    0.0000    0.0000      4420\n",
      "\n",
      "    accuracy                         0.7372     33026\n",
      "   macro avg     0.2457    0.3333    0.2829     33026\n",
      "weighted avg     0.5434    0.7372    0.6256     33026\n",
      "\n"
     ]
    }
   ],
   "source": [
    "from sklearn.metrics import classification_report\n",
    "print(classification_report(y_test_class, y_test_class_pred, digits=4))"
   ]
  },
  {
   "cell_type": "code",
   "execution_count": null,
   "id": "c8333d84",
   "metadata": {},
   "outputs": [],
   "source": []
  }
 ],
 "metadata": {
  "kernelspec": {
   "display_name": "Python 3 (ipykernel)",
   "language": "python",
   "name": "python3"
  },
  "language_info": {
   "codemirror_mode": {
    "name": "ipython",
    "version": 3
   },
   "file_extension": ".py",
   "mimetype": "text/x-python",
   "name": "python",
   "nbconvert_exporter": "python",
   "pygments_lexer": "ipython3",
   "version": "3.9.7"
  }
 },
 "nbformat": 4,
 "nbformat_minor": 5
}
