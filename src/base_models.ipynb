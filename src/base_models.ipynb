{
  "cells": [
    {
      "cell_type": "code",
      "execution_count": 61,
      "metadata": {
        "id": "26Ed8vbUkgAI"
      },
      "outputs": [],
      "source": [
        "import gzip\n",
        "from collections import defaultdict\n",
        "import math\n",
        "import scipy.optimize\n",
        "from sklearn import svm\n",
        "import numpy\n",
        "import string\n",
        "import random\n",
        "from sklearn import linear_model\n",
        "import scipy\n",
        "import tensorflow as tf\n",
        "import pandas as pd \n",
        "from sklearn.preprocessing import StandardScaler, MinMaxScaler\n",
        "from sklearn.metrics import accuracy_score, f1_score, precision_score, recall_score, confusion_matrix\n",
        "from sklearn.ensemble import RandomForestClassifier\n",
        "from collections import defaultdict\n",
        "from sklearn.ensemble import GradientBoostingClassifier\n",
        "from sklearn.neighbors import KNeighborsClassifier\n",
        "from sklearn.naive_bayes import MultinomialNB\n",
        "import seaborn as sns"
      ]
    },
    {
      "cell_type": "code",
      "execution_count": 5,
      "metadata": {
        "id": "xAhAHvtrkgAK"
      },
      "outputs": [],
      "source": [
        "import warnings\n",
        "warnings.filterwarnings(\"ignore\")"
      ]
    },
    {
      "cell_type": "code",
      "execution_count": 6,
      "metadata": {
        "id": "-CXJPOGykgAL"
      },
      "outputs": [],
      "source": [
        "def BER(predictions, y):\n",
        "    TP = sum([(p and l) for (p,l) in zip(predictions, y)])\n",
        "    FP = sum([(p and not l) for (p,l) in zip(predictions, y)])\n",
        "    TN = sum([(not p and not l) for (p,l) in zip(predictions, y)])\n",
        "    FN = sum([(not p and l) for (p,l) in zip(predictions, y)])\n",
        "    TPR = TP / (TP + FN)\n",
        "    TNR = TN / (TN + FP)\n",
        "    BER = 1 - 1/2 * (TPR + TNR)\n",
        "    return BER"
      ]
    },
    {
      "cell_type": "code",
      "execution_count": 17,
      "metadata": {
        "id": "UHgupNZ4kgAM",
        "colab": {
          "base_uri": "https://localhost:8080/"
        },
        "outputId": "2d43ef1a-cf22-4bd4-8750-a2570c67cbf8"
      },
      "outputs": [
        {
          "output_type": "execute_result",
          "data": {
            "text/plain": [
              "fit                       object\n",
              "user_id                    int64\n",
              "bust size                 object\n",
              "item_id                    int64\n",
              "weight                   float64\n",
              "rating                   float64\n",
              "rented for                object\n",
              "review_text               object\n",
              "body type                 object\n",
              "review_summary            object\n",
              "category                  object\n",
              "height                   float64\n",
              "size                       int64\n",
              "age                      float64\n",
              "review_date       datetime64[ns]\n",
              "review_year                int64\n",
              "review_month               int64\n",
              "adjectives                 int64\n",
              "review_length              int64\n",
              "review_words               int64\n",
              "review_ex                  int64\n",
              "dtype: object"
            ]
          },
          "metadata": {},
          "execution_count": 17
        }
      ],
      "source": [
        "data = pd.read_pickle(\"renttherunway_data_processed.pkl\")\n",
        "#data = pd.DataFrame(processed_data).to_dict('record')\n",
        "data.dtypes"
      ]
    },
    {
      "cell_type": "code",
      "source": [
        "feature_list = []"
      ],
      "metadata": {
        "id": "kK0XgloJmTZS"
      },
      "execution_count": 35,
      "outputs": []
    },
    {
      "cell_type": "code",
      "execution_count": 18,
      "metadata": {
        "id": "PwhvW489kgAM"
      },
      "outputs": [],
      "source": [
        "#features to consider for the model \n",
        "bustsize = lambda x: int(x[0:2])\n",
        "data[\"bust size\"] = data[\"bust size\"].apply(bustsize)"
      ]
    },
    {
      "cell_type": "code",
      "source": [
        "btype_data = data[\"body type\"].value_counts()\n",
        "btypes = list(btype_data.keys())\n",
        "feature_list += (btypes)\n",
        "for btype in btypes:\n",
        "  bfun = lambda x: 1 if (x==btype) else 0\n",
        "  data[btype] = data[\"body type\"].apply(bfun)"
      ],
      "metadata": {
        "id": "48KXwwLSjwG3"
      },
      "execution_count": 36,
      "outputs": []
    },
    {
      "cell_type": "code",
      "source": [
        "rtype_data = data[\"rented for\"].value_counts()\n",
        "rtypes = list(rtype_data.keys())\n",
        "feature_list += rtypes\n",
        "for rtype in rtypes:\n",
        "  rfun = lambda x: 1 if (x==rtype) else 0\n",
        "  data[rtype] = data[\"body type\"].apply(rfun)"
      ],
      "metadata": {
        "id": "3QsNxG2qlydY"
      },
      "execution_count": 37,
      "outputs": []
    },
    {
      "cell_type": "code",
      "source": [
        "feature_list.remove('party: cocktail')"
      ],
      "metadata": {
        "id": "5Bsn2fiZmxSQ"
      },
      "execution_count": 38,
      "outputs": []
    },
    {
      "cell_type": "code",
      "source": [
        "data.dtypes"
      ],
      "metadata": {
        "colab": {
          "base_uri": "https://localhost:8080/"
        },
        "id": "9Hlf-5SSlgys",
        "outputId": "a6d1f120-f35b-4c06-de5d-fd70f705c21f"
      },
      "execution_count": 32,
      "outputs": [
        {
          "output_type": "execute_result",
          "data": {
            "text/plain": [
              "fit                          object\n",
              "user_id                       int64\n",
              "bust size                     int64\n",
              "item_id                       int64\n",
              "weight                      float64\n",
              "rating                      float64\n",
              "rented for                   object\n",
              "review_text                  object\n",
              "body type                    object\n",
              "review_summary               object\n",
              "category                     object\n",
              "height                      float64\n",
              "size                          int64\n",
              "age                         float64\n",
              "review_date          datetime64[ns]\n",
              "review_year                   int64\n",
              "review_month                  int64\n",
              "adjectives                    int64\n",
              "review_length                 int64\n",
              "review_words                  int64\n",
              "review_ex                     int64\n",
              "hourglass                     int64\n",
              "athletic                      int64\n",
              "pear                          int64\n",
              "petite                        int64\n",
              "straight & narrow             int64\n",
              "full bust                     int64\n",
              "apple                         int64\n",
              "wedding                       int64\n",
              "formal affair                 int64\n",
              "party                         int64\n",
              "everyday                      int64\n",
              "work                          int64\n",
              "other                         int64\n",
              "date                          int64\n",
              "vacation                      int64\n",
              "party: cocktail               int64\n",
              "dtype: object"
            ]
          },
          "metadata": {},
          "execution_count": 32
        }
      ]
    },
    {
      "cell_type": "code",
      "source": [
        "def feature(d):\n",
        "    f = [1,\n",
        "         d['rating'],\n",
        "         d['review_length'],\n",
        "         len(d['review_summary']),\n",
        "         d['weight'],\n",
        "         d['age'],\n",
        "         d['height'],\n",
        "         d['bust size']]\n",
        "    for e in feature_list:\n",
        "      f.append(d[e])\n",
        "    return f"
      ],
      "metadata": {
        "id": "SpXXHIUmoLgL"
      },
      "execution_count": 40,
      "outputs": []
    },
    {
      "cell_type": "code",
      "source": [
        "inputdata = pd.DataFrame(data).to_dict('record')\n",
        "X = [feature(d) for d in inputdata]\n",
        "y = [d['fit'] for d in inputdata]"
      ],
      "metadata": {
        "id": "ZFbjtunCpMB3"
      },
      "execution_count": 41,
      "outputs": []
    },
    {
      "cell_type": "code",
      "source": [
        "scaler = MinMaxScaler()\n",
        "X = scaler.fit_transform(X)"
      ],
      "metadata": {
        "id": "m7gkgojRr_CR"
      },
      "execution_count": 44,
      "outputs": []
    },
    {
      "cell_type": "code",
      "source": [
        "X_train = X[0:int(0.8*len(data))]\n",
        "X_test = X[int(0.8*len(data)):]\n",
        "\n",
        "y_train = y[0:int(0.8*len(data))]\n",
        "y_test = y[int(0.8*len(data)):]"
      ],
      "metadata": {
        "id": "2IKHVSTQs8FB"
      },
      "execution_count": 45,
      "outputs": []
    },
    {
      "cell_type": "code",
      "source": [
        "model1 = linear_model.LogisticRegression(random_state=0, multi_class='multinomial', class_weight='balanced')\n",
        "model1.fit(X_train, y_train)"
      ],
      "metadata": {
        "colab": {
          "base_uri": "https://localhost:8080/"
        },
        "id": "FDe4XVpCs_H_",
        "outputId": "b7b3e45d-7c4b-4211-efc4-342bce77e370"
      },
      "execution_count": 46,
      "outputs": [
        {
          "output_type": "execute_result",
          "data": {
            "text/plain": [
              "LogisticRegression(class_weight='balanced', multi_class='multinomial',\n",
              "                   random_state=0)"
            ]
          },
          "metadata": {},
          "execution_count": 46
        }
      ]
    },
    {
      "cell_type": "code",
      "source": [
        "model2 = GradientBoostingClassifier(random_state=42)\n",
        "model2.fit(X_train, y_train)"
      ],
      "metadata": {
        "colab": {
          "base_uri": "https://localhost:8080/"
        },
        "id": "OVMij7HiE6vg",
        "outputId": "08637c60-4de6-48b2-d478-67effe040db4"
      },
      "execution_count": 53,
      "outputs": [
        {
          "output_type": "execute_result",
          "data": {
            "text/plain": [
              "GradientBoostingClassifier(random_state=42)"
            ]
          },
          "metadata": {},
          "execution_count": 53
        }
      ]
    },
    {
      "cell_type": "code",
      "source": [
        "ypred = model1.predict(X_test)\n",
        "\n",
        "test_accuracy = accuracy_score(y_test, ypred)\n",
        "test_f1_score = f1_score(y_test, ypred, average='weighted')\n",
        "test_precision_score = precision_score(y_test, ypred, average='weighted')\n",
        "test_recall_score = recall_score(y_test, ypred, average='weighted')\n",
        "\n",
        "print('Test Accuracy:', test_accuracy)\n",
        "print('Test F1 Score:', test_f1_score)\n",
        "print('Test Precision Score:', test_precision_score)\n",
        "print('Test Recall Score:', test_recall_score)"
      ],
      "metadata": {
        "colab": {
          "base_uri": "https://localhost:8080/"
        },
        "id": "iXplRZdZtt90",
        "outputId": "7666fbb5-f478-45d4-c328-19d6d3f4f9ea"
      },
      "execution_count": 49,
      "outputs": [
        {
          "output_type": "stream",
          "name": "stdout",
          "text": [
            "Test Accuracy: 0.5819354448010658\n",
            "Test F1 Score: 0.6100788308435646\n",
            "Test Precision Score: 0.6517726337242464\n",
            "Test Recall Score: 0.5819354448010658\n"
          ]
        }
      ]
    },
    {
      "cell_type": "code",
      "source": [
        "ypred = model2.predict(X_test)\n",
        "\n",
        "test_accuracy = accuracy_score(y_test, ypred)\n",
        "test_f1_score = f1_score(y_test, ypred, average='weighted')\n",
        "test_precision_score = precision_score(y_test, ypred, average='weighted')\n",
        "test_recall_score = recall_score(y_test, ypred, average='weighted')\n",
        "\n",
        "print('Test Accuracy:', test_accuracy)\n",
        "print('Test F1 Score:', test_f1_score)\n",
        "print('Test Precision Score:', test_precision_score)\n",
        "print('Test Recall Score:', test_recall_score)"
      ],
      "metadata": {
        "colab": {
          "base_uri": "https://localhost:8080/"
        },
        "id": "XddqK-1nFw6p",
        "outputId": "2d35d18e-b93b-415c-af74-c6521f125375"
      },
      "execution_count": 54,
      "outputs": [
        {
          "output_type": "stream",
          "name": "stdout",
          "text": [
            "Test Accuracy: 0.738902682734815\n",
            "Test F1 Score: 0.6419162817173231\n",
            "Test Precision Score: 0.6649164829658674\n",
            "Test Recall Score: 0.738902682734815\n"
          ]
        }
      ]
    },
    {
      "cell_type": "code",
      "source": [
        "from sklearn.naive_bayes import BernoulliNB\n",
        "model3 = BernoulliNB()\n",
        "model3.fit(X, y)"
      ],
      "metadata": {
        "colab": {
          "base_uri": "https://localhost:8080/"
        },
        "id": "Gus0kEaSVjdH",
        "outputId": "d9b7cf2e-588c-40f3-9079-0cfe7882d74c"
      },
      "execution_count": 55,
      "outputs": [
        {
          "output_type": "execute_result",
          "data": {
            "text/plain": [
              "BernoulliNB()"
            ]
          },
          "metadata": {},
          "execution_count": 55
        }
      ]
    },
    {
      "cell_type": "code",
      "source": [
        "ypred = model3.predict(X_test)\n",
        "\n",
        "test_accuracy = accuracy_score(y_test, ypred)\n",
        "test_f1_score = f1_score(y_test, ypred, average='weighted')\n",
        "test_precision_score = precision_score(y_test, ypred, average='weighted')\n",
        "test_recall_score = recall_score(y_test, ypred, average='weighted')\n",
        "\n",
        "print('Test Accuracy:', test_accuracy)\n",
        "print('Test F1 Score:', test_f1_score)\n",
        "print('Test Precision Score:', test_precision_score)\n",
        "print('Test Recall Score:', test_recall_score)\n",
        "print(ypred)\n",
        "fig = sns.countplot(y_test, color='steelblue').get_figure()\n",
        "fig.suptitle(\"Fit Feature Distribution\")\n",
        "fig.savefig(\"fit_statistics.png\")"
      ],
      "metadata": {
        "colab": {
          "base_uri": "https://localhost:8080/",
          "height": 383
        },
        "id": "sgDPN7RqXJhg",
        "outputId": "e8ce83cf-8466-4667-9265-16f85e5caf44"
      },
      "execution_count": 63,
      "outputs": [
        {
          "output_type": "stream",
          "name": "stdout",
          "text": [
            "Test Accuracy: 0.7369950947738145\n",
            "Test F1 Score: 0.6296185084688184\n",
            "Test Precision Score: 0.5919198518197517\n",
            "Test Recall Score: 0.7369950947738145\n",
            "['fit' 'fit' 'fit' ... 'fit' 'fit' 'fit']\n"
          ]
        },
        {
          "output_type": "display_data",
          "data": {
            "text/plain": [
              "<Figure size 432x288 with 1 Axes>"
            ],
            "image/png": "[encoded data removed]"
          },
          "metadata": {
            "needs_background": "light"
          }
        }
      ]
    }
  ],
  "metadata": {
    "kernelspec": {
      "display_name": "Python 3",
      "language": "python",
      "name": "python3"
    },
    "language_info": {
      "codemirror_mode": {
        "name": "ipython",
        "version": 3
      },
      "file_extension": ".py",
      "mimetype": "text/x-python",
      "name": "python",
      "nbconvert_exporter": "python",
      "pygments_lexer": "ipython3",
      "version": "3.8.3"
    },
    "colab": {
      "provenance": []
    }
  },
  "nbformat": 4,
  "nbformat_minor": 0
}